{
 "cells": [
  {
   "cell_type": "markdown",
   "metadata": {},
   "source": [
    "# Predict if number on image is prime or composite"
   ]
  },
  {
   "cell_type": "markdown",
   "metadata": {},
   "source": [
    "Present notebook contains codes for images classification. Modified MNIST dataset has been used. 0 and 1 numbers has been deleted. Labels has been encoded into 0 and 1, where 0 is a prime number (2, 3, 5 or 7) and 1 is a composite number (4, 6, 8, or 9). The model used is custom artificial neural network. Model of the network was created with Tensorflow 2.0 and Keras as high level API. Model was tuned with Scikit-learn library. "
   ]
  },
  {
   "cell_type": "markdown",
   "metadata": {},
   "source": [
    "1. Data exploration\n",
    "2. Data preparation\n",
    "3. Data modelling\n",
    "4. Model assessment\n",
    "5. Hyperparameters tuning\n",
    "6. Model assessment"
   ]
  },
  {
   "cell_type": "markdown",
   "metadata": {},
   "source": [
    "## 1. Data exploration"
   ]
  },
  {
   "cell_type": "markdown",
   "metadata": {},
   "source": [
    "### Extract specified part of data"
   ]
  },
  {
   "cell_type": "code",
   "execution_count": 1,
   "metadata": {},
   "outputs": [],
   "source": [
    "# Extract image data:\n",
    "import gzip\n",
    "# Create BufferedReader object\n",
    "f = gzip.open('train-images-idx3-ubyte.gz','r')\n",
    "\n",
    "image_size = 28\n",
    "num_images = 5\n",
    "\n",
    "import numpy as np\n",
    "# set specificiation (?) of importing bytes\n",
    "f.read(16) # 16\n",
    "\n",
    "# read data as bytes object\n",
    "buf = f.read(image_size * image_size * num_images)\n",
    "\n",
    "# Transform bytes to float numbers in 1-dimensional ndarray \n",
    "data_1 = np.frombuffer(buf, dtype=np.uint8).astype(np.float32)\n",
    "\n",
    "# Reshape 1-dimensional array of data to 4 dimensions\n",
    "data = data_1.reshape(num_images, image_size, image_size, 1)"
   ]
  },
  {
   "cell_type": "code",
   "execution_count": 2,
   "metadata": {},
   "outputs": [],
   "source": [
    "# show 1-st row of ndarray (1-st dimension of data)\n",
    "#print(data[0])"
   ]
  },
  {
   "cell_type": "code",
   "execution_count": 3,
   "metadata": {},
   "outputs": [
    {
     "data": {
      "text/plain": [
       "(5, 28, 28, 1)"
      ]
     },
     "execution_count": 3,
     "metadata": {},
     "output_type": "execute_result"
    }
   ],
   "source": [
    "# Show shape of final ndarray\n",
    "data.shape"
   ]
  },
  {
   "cell_type": "markdown",
   "metadata": {},
   "source": [
    "### Show choosen picture"
   ]
  },
  {
   "cell_type": "code",
   "execution_count": 4,
   "metadata": {},
   "outputs": [
    {
     "data": {
      "image/png": "[encoded data removed]",
      "text/plain": [
       "<Figure size 432x288 with 1 Axes>"
      ]
     },
     "metadata": {
      "needs_background": "light"
     },
     "output_type": "display_data"
    }
   ],
   "source": [
    "import matplotlib.pyplot as plt\n",
    "# Cut first row, and reshape joining all sub arrays (from 1-st row)\n",
    "image = np.asarray(data[0]).squeeze()\n",
    "plt.imshow(image)\n",
    "plt.show()"
   ]
  },
  {
   "cell_type": "code",
   "execution_count": 5,
   "metadata": {
    "scrolled": true
   },
   "outputs": [
    {
     "name": "stdout",
     "output_type": "stream",
     "text": [
      "[5]\n",
      "[0]\n",
      "[4]\n",
      "[1]\n",
      "[9]\n",
      "[2]\n",
      "[1]\n",
      "[3]\n",
      "[1]\n",
      "[4]\n"
     ]
    }
   ],
   "source": [
    "# Print first 10 labels:\n",
    "\n",
    "# Create BufferedReader object\n",
    "f = gzip.open('train-labels-idx1-ubyte.gz','r')\n",
    "\n",
    "# set specificiation (?) of importing bytes\n",
    "f.read(8) # 8\n",
    "\n",
    "# Print labels in loop\n",
    "for i in range(0,10):   \n",
    "    buf = f.read(1) # read first byte?\n",
    "    labels = np.frombuffer(buf, dtype=np.uint8).astype(np.int64)\n",
    "    print(labels)"
   ]
  },
  {
   "cell_type": "markdown",
   "metadata": {},
   "source": [
    "### Extract data"
   ]
  },
  {
   "cell_type": "code",
   "execution_count": 6,
   "metadata": {},
   "outputs": [],
   "source": [
    "import idx2numpy\n",
    "import numpy as np\n",
    "\n",
    "train_images_arr = idx2numpy.convert_from_file('train-images.idx3-ubyte')\n",
    "# arr is now ndarray object of shape 60000, 28, 28\n",
    "train_labels_arr = idx2numpy.convert_from_file('train-labels.idx1-ubyte')\n",
    "\n",
    "test_images_arr = idx2numpy.convert_from_file('t10k-images.idx3-ubyte')\n",
    "test_labels_arr = idx2numpy.convert_from_file('t10k-labels.idx1-ubyte')"
   ]
  },
  {
   "cell_type": "markdown",
   "metadata": {},
   "source": [
    "### Check shape of arrays"
   ]
  },
  {
   "cell_type": "code",
   "execution_count": 7,
   "metadata": {},
   "outputs": [
    {
     "data": {
      "text/plain": [
       "(60000, 28, 28)"
      ]
     },
     "execution_count": 7,
     "metadata": {},
     "output_type": "execute_result"
    }
   ],
   "source": [
    "train_images_arr.shape"
   ]
  },
  {
   "cell_type": "code",
   "execution_count": 8,
   "metadata": {
    "scrolled": true
   },
   "outputs": [
    {
     "data": {
      "text/plain": [
       "(60000,)"
      ]
     },
     "execution_count": 8,
     "metadata": {},
     "output_type": "execute_result"
    }
   ],
   "source": [
    "train_labels_arr.shape"
   ]
  },
  {
   "cell_type": "code",
   "execution_count": 9,
   "metadata": {},
   "outputs": [
    {
     "data": {
      "text/plain": [
       "(10000, 28, 28)"
      ]
     },
     "execution_count": 9,
     "metadata": {},
     "output_type": "execute_result"
    }
   ],
   "source": [
    "test_images_arr.shape"
   ]
  },
  {
   "cell_type": "code",
   "execution_count": 10,
   "metadata": {
    "scrolled": true
   },
   "outputs": [
    {
     "data": {
      "text/plain": [
       "(10000,)"
      ]
     },
     "execution_count": 10,
     "metadata": {},
     "output_type": "execute_result"
    }
   ],
   "source": [
    "test_labels_arr.shape"
   ]
  },
  {
   "cell_type": "markdown",
   "metadata": {},
   "source": [
    "## 2. Data preparation"
   ]
  },
  {
   "cell_type": "markdown",
   "metadata": {},
   "source": [
    "### Recode dataset"
   ]
  },
  {
   "cell_type": "code",
   "execution_count": 11,
   "metadata": {},
   "outputs": [],
   "source": [
    "# 1) Remove 0 and 1 from dataset \n",
    "\n",
    "# 2)  Recode labels from (2,3,5,7) to 0 (as prime numbers)\n",
    "#     Recode labels from (4,6,8,9) to 1 (as composite numbers)\n"
   ]
  },
  {
   "cell_type": "code",
   "execution_count": 12,
   "metadata": {},
   "outputs": [],
   "source": [
    "# Delete 0 and 1 from train dataset"
   ]
  },
  {
   "cell_type": "code",
   "execution_count": 13,
   "metadata": {},
   "outputs": [],
   "source": [
    "# Get indices of 0, 1 from train set / check on which positions they are\n",
    "indices_0_1_train = [i for i, value in np.ndenumerate(train_labels_arr) if value == 0 or value == 1 ]"
   ]
  },
  {
   "cell_type": "code",
   "execution_count": 14,
   "metadata": {},
   "outputs": [
    {
     "data": {
      "text/plain": [
       "[(1,), (3,), (6,), (8,), (14,), (21,), (23,), (24,), (34,), (37,)]"
      ]
     },
     "execution_count": 14,
     "metadata": {},
     "output_type": "execute_result"
    }
   ],
   "source": [
    "indices_0_1_train[:10]"
   ]
  },
  {
   "cell_type": "code",
   "execution_count": 15,
   "metadata": {},
   "outputs": [
    {
     "data": {
      "text/plain": [
       "12665"
      ]
     },
     "execution_count": 15,
     "metadata": {},
     "output_type": "execute_result"
    }
   ],
   "source": [
    "len(indices_0_1_train)"
   ]
  },
  {
   "cell_type": "code",
   "execution_count": 16,
   "metadata": {
    "scrolled": true
   },
   "outputs": [
    {
     "data": {
      "text/plain": [
       "array([5, 0, 4, 1, 9, 2, 1, 3, 1, 4], dtype=uint8)"
      ]
     },
     "execution_count": 16,
     "metadata": {},
     "output_type": "execute_result"
    }
   ],
   "source": [
    "# Check labels in training set\n",
    "train_labels_arr[:10]"
   ]
  },
  {
   "cell_type": "code",
   "execution_count": 17,
   "metadata": {},
   "outputs": [],
   "source": [
    "# Get indices of 0, 1 from test set\n",
    "indices_0_1_test = [i for i, value in np.ndenumerate(test_labels_arr) if value == 0 or value == 1 ]\n"
   ]
  },
  {
   "cell_type": "code",
   "execution_count": 18,
   "metadata": {},
   "outputs": [
    {
     "data": {
      "text/plain": [
       "[(2,), (3,), (5,), (10,)]"
      ]
     },
     "execution_count": 18,
     "metadata": {},
     "output_type": "execute_result"
    }
   ],
   "source": [
    "indices_0_1_test[:4]"
   ]
  },
  {
   "cell_type": "markdown",
   "metadata": {},
   "source": [
    "### Delete 0 and 1 from images and labels arrays"
   ]
  },
  {
   "cell_type": "code",
   "execution_count": 19,
   "metadata": {},
   "outputs": [],
   "source": [
    "# Delete labels of 0, 1 from train set\n",
    "train_labels_arr_2 = np.delete(train_labels_arr, indices_0_1_train, axis=None)\n",
    "# Delete pictures of 0, 1 from train set\n",
    "train_images_arr_2 = np.delete(train_images_arr, indices_0_1_train, axis=0)\n",
    "\n",
    "# Delete labels of 0, 1 from test set\n",
    "test_labels_arr_2 = np.delete(test_labels_arr, indices_0_1_test, axis=None)\n",
    "# Delete pictures of 0, 1 from test set\n",
    "test_images_arr_2 = np.delete(test_images_arr, indices_0_1_test, axis=0)\n"
   ]
  },
  {
   "cell_type": "code",
   "execution_count": 20,
   "metadata": {},
   "outputs": [
    {
     "data": {
      "text/plain": [
       "(47335,)"
      ]
     },
     "execution_count": 20,
     "metadata": {},
     "output_type": "execute_result"
    }
   ],
   "source": [
    "train_labels_arr_2.shape"
   ]
  },
  {
   "cell_type": "code",
   "execution_count": 21,
   "metadata": {},
   "outputs": [
    {
     "data": {
      "text/plain": [
       "(47335, 28, 28)"
      ]
     },
     "execution_count": 21,
     "metadata": {},
     "output_type": "execute_result"
    }
   ],
   "source": [
    "train_images_arr_2.shape"
   ]
  },
  {
   "cell_type": "code",
   "execution_count": 22,
   "metadata": {},
   "outputs": [
    {
     "data": {
      "text/plain": [
       "(7885,)"
      ]
     },
     "execution_count": 22,
     "metadata": {},
     "output_type": "execute_result"
    }
   ],
   "source": [
    "test_labels_arr_2.shape"
   ]
  },
  {
   "cell_type": "code",
   "execution_count": 23,
   "metadata": {
    "scrolled": true
   },
   "outputs": [
    {
     "data": {
      "text/plain": [
       "(7885, 28, 28)"
      ]
     },
     "execution_count": 23,
     "metadata": {},
     "output_type": "execute_result"
    }
   ],
   "source": [
    "test_images_arr_2.shape"
   ]
  },
  {
   "cell_type": "markdown",
   "metadata": {},
   "source": [
    "### Recoding training set"
   ]
  },
  {
   "cell_type": "code",
   "execution_count": 24,
   "metadata": {},
   "outputs": [],
   "source": [
    "# 2)  Recode labels from (2,3,5,7) to 0 (as prime numbers)\n",
    "#     Recode labels from (4,6,8,9) to 1 (as composite numbers)"
   ]
  },
  {
   "cell_type": "code",
   "execution_count": 25,
   "metadata": {},
   "outputs": [],
   "source": [
    "# Recode labels from (2,3,5,7) to 0 (as prime numbers)\n",
    "train_labels_arr_2[ (train_labels_arr_2 == 2)|(train_labels_arr_2 == 3)|(train_labels_arr_2 == 5)|(train_labels_arr_2 == 7)] = 0"
   ]
  },
  {
   "cell_type": "code",
   "execution_count": 26,
   "metadata": {},
   "outputs": [
    {
     "data": {
      "text/plain": [
       "array([0, 4, 9, 0, 0, 4, 0, 0, 0, 6, 0, 0, 8, 6, 9, 4, 9, 0, 4, 0, 0, 0,\n",
       "       0, 8, 6, 9, 0, 6, 0, 6, 8, 0, 9, 0, 9, 8, 0, 9, 0, 0, 0, 4, 9, 8,\n",
       "       9, 4, 4, 4, 6, 4, 0, 6, 0, 6, 0, 0, 0, 9, 0, 6, 0, 8, 0, 9, 4, 6,\n",
       "       0, 4, 6, 8], dtype=uint8)"
      ]
     },
     "execution_count": 26,
     "metadata": {},
     "output_type": "execute_result"
    }
   ],
   "source": [
    "train_labels_arr_2[:70]"
   ]
  },
  {
   "cell_type": "code",
   "execution_count": 27,
   "metadata": {},
   "outputs": [],
   "source": [
    "# Check frequencies in changed ndarray\n",
    "(unique, counts) = np.unique(train_labels_arr_2, return_counts=True)\n",
    "frequencies = np.asarray((unique, counts)).T"
   ]
  },
  {
   "cell_type": "code",
   "execution_count": 28,
   "metadata": {},
   "outputs": [
    {
     "data": {
      "text/plain": [
       "array([[    0, 23775],\n",
       "       [    4,  5842],\n",
       "       [    6,  5918],\n",
       "       [    8,  5851],\n",
       "       [    9,  5949]], dtype=int64)"
      ]
     },
     "execution_count": 28,
     "metadata": {},
     "output_type": "execute_result"
    }
   ],
   "source": [
    "frequencies"
   ]
  },
  {
   "cell_type": "code",
   "execution_count": 29,
   "metadata": {},
   "outputs": [],
   "source": [
    "# Recode labels from (4,6,8,9) to 1 (as composite numbers)\n",
    "train_labels_arr_2[ (train_labels_arr_2 == 4)|(train_labels_arr_2 == 6)|(train_labels_arr_2 == 8)|(train_labels_arr_2 == 9)] = 1"
   ]
  },
  {
   "cell_type": "code",
   "execution_count": 30,
   "metadata": {},
   "outputs": [],
   "source": [
    "# Check frequencies in changed ndarray\n",
    "(unique, counts) = np.unique(train_labels_arr_2, return_counts=True)\n",
    "frequencies = np.asarray((unique, counts)).T"
   ]
  },
  {
   "cell_type": "code",
   "execution_count": 31,
   "metadata": {},
   "outputs": [
    {
     "data": {
      "text/plain": [
       "array([[    0, 23775],\n",
       "       [    1, 23560]], dtype=int64)"
      ]
     },
     "execution_count": 31,
     "metadata": {},
     "output_type": "execute_result"
    }
   ],
   "source": [
    "frequencies"
   ]
  },
  {
   "cell_type": "markdown",
   "metadata": {},
   "source": [
    "### Recoding test set"
   ]
  },
  {
   "cell_type": "code",
   "execution_count": 32,
   "metadata": {},
   "outputs": [],
   "source": [
    "# Recode labels from (2,3,5,7) to 0 (as prime numbers)\n",
    "test_labels_arr_2[ (test_labels_arr_2 == 2)|(test_labels_arr_2 == 3)|(test_labels_arr_2 == 5)|(test_labels_arr_2 == 7)] = 0"
   ]
  },
  {
   "cell_type": "code",
   "execution_count": 33,
   "metadata": {},
   "outputs": [
    {
     "data": {
      "text/plain": [
       "array([0, 0, 4, 4, 9, 0, 9, 6, 9, 0, 9, 0, 0, 4, 9, 6, 6, 0, 4, 0, 4, 0,\n",
       "       0, 4, 0, 0, 0, 0, 0, 4, 0, 0, 0, 0, 4, 4, 6, 0, 0, 0, 6, 4, 9, 0,\n",
       "       0, 8, 9, 0, 0, 4, 6, 4, 0, 0, 0, 9, 0, 0, 0, 9, 0, 0, 6, 0, 0, 8,\n",
       "       4, 0, 0, 6], dtype=uint8)"
      ]
     },
     "execution_count": 33,
     "metadata": {},
     "output_type": "execute_result"
    }
   ],
   "source": [
    "test_labels_arr_2[:70]"
   ]
  },
  {
   "cell_type": "code",
   "execution_count": 34,
   "metadata": {},
   "outputs": [],
   "source": [
    "# Check frequencies in changed ndarray\n",
    "(unique, counts) = np.unique(test_labels_arr_2, return_counts=True)\n",
    "frequencies = np.asarray((unique, counts)).T"
   ]
  },
  {
   "cell_type": "code",
   "execution_count": 35,
   "metadata": {},
   "outputs": [
    {
     "data": {
      "text/plain": [
       "array([[   0, 3962],\n",
       "       [   4,  982],\n",
       "       [   6,  958],\n",
       "       [   8,  974],\n",
       "       [   9, 1009]], dtype=int64)"
      ]
     },
     "execution_count": 35,
     "metadata": {},
     "output_type": "execute_result"
    }
   ],
   "source": [
    "frequencies"
   ]
  },
  {
   "cell_type": "code",
   "execution_count": 36,
   "metadata": {},
   "outputs": [],
   "source": [
    "# Recode labels from (4,6,8,9) to 1 (as composite numbers)\n",
    "test_labels_arr_2[ (test_labels_arr_2 == 4)|(test_labels_arr_2 == 6)|(test_labels_arr_2 == 8)|(test_labels_arr_2 == 9)] = 1"
   ]
  },
  {
   "cell_type": "code",
   "execution_count": 37,
   "metadata": {},
   "outputs": [],
   "source": [
    "# Check frequencies in changed ndarray\n",
    "(unique, counts) = np.unique(test_labels_arr_2, return_counts=True)\n",
    "frequencies = np.asarray((unique, counts)).T"
   ]
  },
  {
   "cell_type": "code",
   "execution_count": 38,
   "metadata": {},
   "outputs": [
    {
     "data": {
      "text/plain": [
       "array([[   0, 3962],\n",
       "       [   1, 3923]], dtype=int64)"
      ]
     },
     "execution_count": 38,
     "metadata": {},
     "output_type": "execute_result"
    }
   ],
   "source": [
    "frequencies"
   ]
  },
  {
   "cell_type": "code",
   "execution_count": null,
   "metadata": {},
   "outputs": [],
   "source": []
  },
  {
   "cell_type": "code",
   "execution_count": 39,
   "metadata": {
    "scrolled": true
   },
   "outputs": [
    {
     "data": {
      "text/plain": [
       "253"
      ]
     },
     "execution_count": 39,
     "metadata": {},
     "output_type": "execute_result"
    }
   ],
   "source": [
    "max(train_images_arr_2[0][9])"
   ]
  },
  {
   "cell_type": "markdown",
   "metadata": {},
   "source": [
    "### Data normalization"
   ]
  },
  {
   "cell_type": "code",
   "execution_count": 40,
   "metadata": {},
   "outputs": [],
   "source": [
    "# Normalize dataset to <0,1> range\n",
    "train_images_arr_2, test_images_arr_2 = train_images_arr_2 / 255.0, test_images_arr_2 / 255.0"
   ]
  },
  {
   "cell_type": "code",
   "execution_count": 41,
   "metadata": {
    "scrolled": true
   },
   "outputs": [
    {
     "data": {
      "text/plain": [
       "0.9921568627450981"
      ]
     },
     "execution_count": 41,
     "metadata": {},
     "output_type": "execute_result"
    }
   ],
   "source": [
    "max(train_images_arr_2[0][9])"
   ]
  },
  {
   "cell_type": "markdown",
   "metadata": {},
   "source": [
    "### Datasets rename"
   ]
  },
  {
   "cell_type": "code",
   "execution_count": 42,
   "metadata": {},
   "outputs": [],
   "source": [
    "X_train, Y_train, X_test, Y_test = train_images_arr_2, train_labels_arr_2, test_images_arr_2, test_labels_arr_2"
   ]
  },
  {
   "cell_type": "markdown",
   "metadata": {},
   "source": [
    "## 3. Data modelling"
   ]
  },
  {
   "cell_type": "markdown",
   "metadata": {},
   "source": [
    "As far we deleted 0 and 1 from out datasets, both train and test. We also recoded all prime numbers to 0, and all composite numbers to 1. So our classifier will not differentiate between numbers among crtain groups. "
   ]
  },
  {
   "cell_type": "code",
   "execution_count": 43,
   "metadata": {},
   "outputs": [
    {
     "name": "stderr",
     "output_type": "stream",
     "text": [
      "C:\\ProgramData\\Anaconda3\\lib\\site-packages\\tensorflow\\python\\framework\\dtypes.py:523: FutureWarning: Passing (type, 1) or '1type' as a synonym of type is deprecated; in a future version of numpy, it will be understood as (type, (1,)) / '(1,)type'.\n",
      "  _np_qint8 = np.dtype([(\"qint8\", np.int8, 1)])\n",
      "C:\\ProgramData\\Anaconda3\\lib\\site-packages\\tensorflow\\python\\framework\\dtypes.py:524: FutureWarning: Passing (type, 1) or '1type' as a synonym of type is deprecated; in a future version of numpy, it will be understood as (type, (1,)) / '(1,)type'.\n",
      "  _np_quint8 = np.dtype([(\"quint8\", np.uint8, 1)])\n",
      "C:\\ProgramData\\Anaconda3\\lib\\site-packages\\tensorflow\\python\\framework\\dtypes.py:525: FutureWarning: Passing (type, 1) or '1type' as a synonym of type is deprecated; in a future version of numpy, it will be understood as (type, (1,)) / '(1,)type'.\n",
      "  _np_qint16 = np.dtype([(\"qint16\", np.int16, 1)])\n",
      "C:\\ProgramData\\Anaconda3\\lib\\site-packages\\tensorflow\\python\\framework\\dtypes.py:526: FutureWarning: Passing (type, 1) or '1type' as a synonym of type is deprecated; in a future version of numpy, it will be understood as (type, (1,)) / '(1,)type'.\n",
      "  _np_quint16 = np.dtype([(\"quint16\", np.uint16, 1)])\n",
      "C:\\ProgramData\\Anaconda3\\lib\\site-packages\\tensorflow\\python\\framework\\dtypes.py:527: FutureWarning: Passing (type, 1) or '1type' as a synonym of type is deprecated; in a future version of numpy, it will be understood as (type, (1,)) / '(1,)type'.\n",
      "  _np_qint32 = np.dtype([(\"qint32\", np.int32, 1)])\n",
      "C:\\ProgramData\\Anaconda3\\lib\\site-packages\\tensorflow\\python\\framework\\dtypes.py:532: FutureWarning: Passing (type, 1) or '1type' as a synonym of type is deprecated; in a future version of numpy, it will be understood as (type, (1,)) / '(1,)type'.\n",
      "  np_resource = np.dtype([(\"resource\", np.ubyte, 1)])\n",
      "C:\\ProgramData\\Anaconda3\\lib\\site-packages\\tensorboard\\compat\\tensorflow_stub\\dtypes.py:541: FutureWarning: Passing (type, 1) or '1type' as a synonym of type is deprecated; in a future version of numpy, it will be understood as (type, (1,)) / '(1,)type'.\n",
      "  _np_qint8 = np.dtype([(\"qint8\", np.int8, 1)])\n",
      "C:\\ProgramData\\Anaconda3\\lib\\site-packages\\tensorboard\\compat\\tensorflow_stub\\dtypes.py:542: FutureWarning: Passing (type, 1) or '1type' as a synonym of type is deprecated; in a future version of numpy, it will be understood as (type, (1,)) / '(1,)type'.\n",
      "  _np_quint8 = np.dtype([(\"quint8\", np.uint8, 1)])\n",
      "C:\\ProgramData\\Anaconda3\\lib\\site-packages\\tensorboard\\compat\\tensorflow_stub\\dtypes.py:543: FutureWarning: Passing (type, 1) or '1type' as a synonym of type is deprecated; in a future version of numpy, it will be understood as (type, (1,)) / '(1,)type'.\n",
      "  _np_qint16 = np.dtype([(\"qint16\", np.int16, 1)])\n",
      "C:\\ProgramData\\Anaconda3\\lib\\site-packages\\tensorboard\\compat\\tensorflow_stub\\dtypes.py:544: FutureWarning: Passing (type, 1) or '1type' as a synonym of type is deprecated; in a future version of numpy, it will be understood as (type, (1,)) / '(1,)type'.\n",
      "  _np_quint16 = np.dtype([(\"quint16\", np.uint16, 1)])\n",
      "C:\\ProgramData\\Anaconda3\\lib\\site-packages\\tensorboard\\compat\\tensorflow_stub\\dtypes.py:545: FutureWarning: Passing (type, 1) or '1type' as a synonym of type is deprecated; in a future version of numpy, it will be understood as (type, (1,)) / '(1,)type'.\n",
      "  _np_qint32 = np.dtype([(\"qint32\", np.int32, 1)])\n",
      "C:\\ProgramData\\Anaconda3\\lib\\site-packages\\tensorboard\\compat\\tensorflow_stub\\dtypes.py:550: FutureWarning: Passing (type, 1) or '1type' as a synonym of type is deprecated; in a future version of numpy, it will be understood as (type, (1,)) / '(1,)type'.\n",
      "  np_resource = np.dtype([(\"resource\", np.ubyte, 1)])\n"
     ]
    },
    {
     "name": "stdout",
     "output_type": "stream",
     "text": [
      "2.0.0-alpha0\n"
     ]
    }
   ],
   "source": [
    "import tensorflow as tf\n",
    "print (tf.__version__) # 2.0.0-alpha0"
   ]
  },
  {
   "cell_type": "markdown",
   "metadata": {},
   "source": [
    "### Create baseline model"
   ]
  },
  {
   "cell_type": "code",
   "execution_count": 44,
   "metadata": {},
   "outputs": [],
   "source": [
    "# Create 2 layers neural network\n",
    "model = tf.keras.models.Sequential([\n",
    "        \n",
    "  # flatten input array to 1d vector\n",
    "  tf.keras.layers.Flatten(input_shape=(28, 28)), # output shape is 784\n",
    "  \n",
    "  # Add first layer consisted of 128 neurons, what is resulting \n",
    "  # in 100480 new parameters\n",
    "  tf.keras.layers.Dense(128, activation='relu'),\n",
    "  \n",
    "  # Random dropout of choosen percentage of parameters between layers\n",
    "  tf.keras.layers.Dropout(0.2),\n",
    "  \n",
    "  # add second layer consisted of 2 neurons\n",
    "  # output shape is 2 - one output value for each prime and composite number\n",
    "  tf.keras.layers.Dense(2, activation='softmax') \n",
    "])\n",
    "# 10 neurons as output in last layer \n",
    "\n",
    "# configure learning process\n",
    "model.compile(optimizer='adam',\n",
    "              loss='sparse_categorical_crossentropy',\n",
    "              metrics=['accuracy'])"
   ]
  },
  {
   "cell_type": "code",
   "execution_count": 45,
   "metadata": {},
   "outputs": [
    {
     "name": "stdout",
     "output_type": "stream",
     "text": [
      "Model: \"sequential\"\n",
      "_________________________________________________________________\n",
      "Layer (type)                 Output Shape              Param #   \n",
      "=================================================================\n",
      "flatten (Flatten)            (None, 784)               0         \n",
      "_________________________________________________________________\n",
      "dense (Dense)                (None, 128)               100480    \n",
      "_________________________________________________________________\n",
      "dropout (Dropout)            (None, 128)               0         \n",
      "_________________________________________________________________\n",
      "dense_1 (Dense)              (None, 2)                 258       \n",
      "=================================================================\n",
      "Total params: 100,738\n",
      "Trainable params: 100,738\n",
      "Non-trainable params: 0\n",
      "_________________________________________________________________\n"
     ]
    }
   ],
   "source": [
    "# Show network structure\n",
    "model.summary()"
   ]
  },
  {
   "cell_type": "markdown",
   "metadata": {},
   "source": [
    "### Train the model"
   ]
  },
  {
   "cell_type": "code",
   "execution_count": 46,
   "metadata": {
    "scrolled": true
   },
   "outputs": [
    {
     "name": "stdout",
     "output_type": "stream",
     "text": [
      "Epoch 1/50\n",
      "47335/47335 [==============================] - 6s 120us/sample - loss: 0.1169 - accuracy: 0.9583\n",
      "Epoch 2/50\n",
      "47335/47335 [==============================] - 6s 122us/sample - loss: 0.0601 - accuracy: 0.9796\n",
      "Epoch 3/50\n",
      "47335/47335 [==============================] - 7s 140us/sample - loss: 0.0454 - accuracy: 0.9848\n",
      "Epoch 4/50\n",
      "47335/47335 [==============================] - 6s 130us/sample - loss: 0.0358 - accuracy: 0.9876\n",
      "Epoch 5/50\n",
      "47335/47335 [==============================] - 6s 120us/sample - loss: 0.0286 - accuracy: 0.9907\n",
      "Epoch 6/50\n",
      "47335/47335 [==============================] - 5s 109us/sample - loss: 0.0261 - accuracy: 0.9911\n",
      "Epoch 7/50\n",
      "47335/47335 [==============================] - 5s 108us/sample - loss: 0.0226 - accuracy: 0.9924\n",
      "Epoch 8/50\n",
      "47335/47335 [==============================] - 8s 159us/sample - loss: 0.0192 - accuracy: 0.9934\n",
      "Epoch 9/50\n",
      "47335/47335 [==============================] - 8s 163us/sample - loss: 0.0169 - accuracy: 0.9941\n",
      "Epoch 10/50\n",
      "47335/47335 [==============================] - 7s 156us/sample - loss: 0.0156 - accuracy: 0.9944\n",
      "Epoch 11/50\n",
      "47335/47335 [==============================] - 8s 160us/sample - loss: 0.0131 - accuracy: 0.9957\n",
      "Epoch 12/50\n",
      "47335/47335 [==============================] - 8s 163us/sample - loss: 0.0117 - accuracy: 0.9959\n",
      "Epoch 13/50\n",
      "47335/47335 [==============================] - 7s 142us/sample - loss: 0.0121 - accuracy: 0.9958\n",
      "Epoch 14/50\n",
      "47335/47335 [==============================] - 7s 151us/sample - loss: 0.0105 - accuracy: 0.9964\n",
      "Epoch 15/50\n",
      "47335/47335 [==============================] - 7s 139us/sample - loss: 0.0096 - accuracy: 0.9966\n",
      "Epoch 16/50\n",
      "47335/47335 [==============================] - 6s 136us/sample - loss: 0.0103 - accuracy: 0.9965\n",
      "Epoch 17/50\n",
      "47335/47335 [==============================] - 5s 112us/sample - loss: 0.0077 - accuracy: 0.9974\n",
      "Epoch 18/50\n",
      "47335/47335 [==============================] - 6s 120us/sample - loss: 0.0084 - accuracy: 0.9970\n",
      "Epoch 19/50\n",
      "47335/47335 [==============================] - 6s 116us/sample - loss: 0.0075 - accuracy: 0.9976\n",
      "Epoch 20/50\n",
      "47335/47335 [==============================] - 6s 121us/sample - loss: 0.0076 - accuracy: 0.9975\n",
      "Epoch 21/50\n",
      "47335/47335 [==============================] - 6s 123us/sample - loss: 0.0084 - accuracy: 0.9971\n",
      "Epoch 22/50\n",
      "47335/47335 [==============================] - 6s 136us/sample - loss: 0.0069 - accuracy: 0.9978\n",
      "Epoch 23/50\n",
      "47335/47335 [==============================] - 8s 170us/sample - loss: 0.0070 - accuracy: 0.9977\n",
      "Epoch 24/50\n",
      "47335/47335 [==============================] - 8s 163us/sample - loss: 0.0062 - accuracy: 0.9977\n",
      "Epoch 25/50\n",
      "47335/47335 [==============================] - 6s 116us/sample - loss: 0.0061 - accuracy: 0.9981\n",
      "Epoch 26/50\n",
      "47335/47335 [==============================] - 6s 120us/sample - loss: 0.0066 - accuracy: 0.9978\n",
      "Epoch 27/50\n",
      "47335/47335 [==============================] - 5s 108us/sample - loss: 0.0068 - accuracy: 0.9975\n",
      "Epoch 28/50\n",
      "47335/47335 [==============================] - 6s 121us/sample - loss: 0.0050 - accuracy: 0.9984\n",
      "Epoch 29/50\n",
      "47335/47335 [==============================] - 6s 127us/sample - loss: 0.0057 - accuracy: 0.9980\n",
      "Epoch 30/50\n",
      "47335/47335 [==============================] - 5s 111us/sample - loss: 0.0062 - accuracy: 0.9979\n",
      "Epoch 31/50\n",
      "47335/47335 [==============================] - 5s 101us/sample - loss: 0.0054 - accuracy: 0.9982\n",
      "Epoch 32/50\n",
      "47335/47335 [==============================] - 6s 137us/sample - loss: 0.0044 - accuracy: 0.9985\n",
      "Epoch 33/50\n",
      "47335/47335 [==============================] - 9s 198us/sample - loss: 0.0054 - accuracy: 0.9982\n",
      "Epoch 34/50\n",
      "47335/47335 [==============================] - 7s 145us/sample - loss: 0.0041 - accuracy: 0.9986\n",
      "Epoch 35/50\n",
      "47335/47335 [==============================] - 6s 132us/sample - loss: 0.0057 - accuracy: 0.9983\n",
      "Epoch 36/50\n",
      "47335/47335 [==============================] - 7s 138us/sample - loss: 0.0047 - accuracy: 0.9983\n",
      "Epoch 37/50\n",
      "47335/47335 [==============================] - 7s 149us/sample - loss: 0.0044 - accuracy: 0.9986\n",
      "Epoch 38/50\n",
      "47335/47335 [==============================] - 6s 120us/sample - loss: 0.0051 - accuracy: 0.9982\n",
      "Epoch 39/50\n",
      "47335/47335 [==============================] - 6s 123us/sample - loss: 0.0047 - accuracy: 0.9984\n",
      "Epoch 40/50\n",
      "47335/47335 [==============================] - 6s 129us/sample - loss: 0.0039 - accuracy: 0.9988\n",
      "Epoch 41/50\n",
      "47335/47335 [==============================] - 6s 119us/sample - loss: 0.0044 - accuracy: 0.9987\n",
      "Epoch 42/50\n",
      "47335/47335 [==============================] - 7s 157us/sample - loss: 0.0036 - accuracy: 0.9989\n",
      "Epoch 43/50\n",
      "47335/47335 [==============================] - 6s 133us/sample - loss: 0.0046 - accuracy: 0.9985\n",
      "Epoch 44/50\n",
      "47335/47335 [==============================] - 8s 159us/sample - loss: 0.0050 - accuracy: 0.9985\n",
      "Epoch 45/50\n",
      "47335/47335 [==============================] - 9s 195us/sample - loss: 0.0039 - accuracy: 0.9987\n",
      "Epoch 46/50\n",
      "47335/47335 [==============================] - 7s 146us/sample - loss: 0.0042 - accuracy: 0.9987\n",
      "Epoch 47/50\n",
      "47335/47335 [==============================] - 7s 143us/sample - loss: 0.0048 - accuracy: 0.9983\n",
      "Epoch 48/50\n",
      "47335/47335 [==============================] - 6s 123us/sample - loss: 0.0033 - accuracy: 0.9991\n",
      "Epoch 49/50\n",
      "47335/47335 [==============================] - 6s 117us/sample - loss: 0.0029 - accuracy: 0.9989\n",
      "Epoch 50/50\n",
      "47335/47335 [==============================] - 7s 142us/sample - loss: 0.0032 - accuracy: 0.9990\n"
     ]
    },
    {
     "data": {
      "text/plain": [
       "<tensorflow.python.keras.callbacks.History at 0x207cb42eef0>"
      ]
     },
     "execution_count": 46,
     "metadata": {},
     "output_type": "execute_result"
    }
   ],
   "source": [
    "# Model training\n",
    "model.fit(X_train, Y_train, epochs=50)"
   ]
  },
  {
   "cell_type": "markdown",
   "metadata": {},
   "source": [
    "## 4. Model assessment"
   ]
  },
  {
   "cell_type": "code",
   "execution_count": 47,
   "metadata": {},
   "outputs": [
    {
     "name": "stdout",
     "output_type": "stream",
     "text": [
      "7885/7885 [==============================] - 1s 111us/sample - loss: 0.0525 - accuracy: 0.9907\n"
     ]
    },
    {
     "data": {
      "text/plain": [
       "[0.05245432412244046, 0.9907419]"
      ]
     },
     "execution_count": 47,
     "metadata": {},
     "output_type": "execute_result"
    }
   ],
   "source": [
    "# Model evaluation\n",
    "model.evaluate(X_test, Y_test)"
   ]
  },
  {
   "cell_type": "markdown",
   "metadata": {},
   "source": [
    "Model has pretty high 0.9906 accuracy on test set."
   ]
  },
  {
   "cell_type": "markdown",
   "metadata": {},
   "source": [
    "## Test network on particular examples"
   ]
  },
  {
   "cell_type": "markdown",
   "metadata": {},
   "source": [
    "#### Get image from test set and predict"
   ]
  },
  {
   "cell_type": "code",
   "execution_count": 48,
   "metadata": {},
   "outputs": [],
   "source": [
    "# Cut observation\n",
    "X_obs_02 = np.expand_dims(X_test[0], axis = 0)"
   ]
  },
  {
   "cell_type": "code",
   "execution_count": 49,
   "metadata": {},
   "outputs": [
    {
     "data": {
      "image/png": "[encoded data removed]",
      "text/plain": [
       "<Figure size 432x288 with 1 Axes>"
      ]
     },
     "metadata": {
      "needs_background": "light"
     },
     "output_type": "display_data"
    }
   ],
   "source": [
    "# Show image\n",
    "import matplotlib.pyplot as plt\n",
    "plt.imshow(X_test[0])\n",
    "plt.show()"
   ]
  },
  {
   "cell_type": "code",
   "execution_count": 50,
   "metadata": {},
   "outputs": [
    {
     "name": "stdout",
     "output_type": "stream",
     "text": [
      "[[1.00000e+00 4.75968e-23]]\n"
     ]
    }
   ],
   "source": [
    "# Predict image class\n",
    "prediction = model.predict(X_obs_02)\n",
    "print(prediction)"
   ]
  },
  {
   "cell_type": "markdown",
   "metadata": {},
   "source": [
    "Probablility that number is prime: 1.0000000e+00\n",
    "\n",
    "Probablility that number is composite: 5.532408e-18"
   ]
  },
  {
   "cell_type": "markdown",
   "metadata": {},
   "source": [
    "#### Create random image and test model"
   ]
  },
  {
   "cell_type": "code",
   "execution_count": 51,
   "metadata": {},
   "outputs": [],
   "source": [
    "# Genereate observation - create an array\n",
    "X_obs_01_2d = np.array([np.round(np.random.uniform(size = None),4) for i in range(784)]).reshape(28,28)\n",
    "# add dim on axis = 0\n",
    "X_obs_01 = np.expand_dims(X_obs_01_2d, axis=0)"
   ]
  },
  {
   "cell_type": "code",
   "execution_count": 52,
   "metadata": {},
   "outputs": [
    {
     "data": {
      "image/png": "[encoded data removed]",
      "text/plain": [
       "<Figure size 432x288 with 1 Axes>"
      ]
     },
     "metadata": {
      "needs_background": "light"
     },
     "output_type": "display_data"
    }
   ],
   "source": [
    "# Show image\n",
    "import matplotlib.pyplot as plt\n",
    "plt.imshow(X_obs_01_2d)\n",
    "plt.show()"
   ]
  },
  {
   "cell_type": "code",
   "execution_count": 53,
   "metadata": {},
   "outputs": [
    {
     "name": "stdout",
     "output_type": "stream",
     "text": [
      "[[5.250681e-26 1.000000e+00]]\n"
     ]
    }
   ],
   "source": [
    "# Predict image class\n",
    "prediction = model.predict(X_obs_01)\n",
    "print(prediction)"
   ]
  },
  {
   "cell_type": "markdown",
   "metadata": {},
   "source": [
    "Probablility that number is prime: 1.9249865e-22 \n",
    "\n",
    "Probablility that number is composite: 1.0000000e+00"
   ]
  },
  {
   "cell_type": "markdown",
   "metadata": {},
   "source": [
    "## 5. Hyperparameters tuning"
   ]
  },
  {
   "cell_type": "markdown",
   "metadata": {},
   "source": [
    "### Create model"
   ]
  },
  {
   "cell_type": "code",
   "execution_count": 54,
   "metadata": {},
   "outputs": [],
   "source": [
    "# Create 2 layers neural network\n",
    "# function should has\n",
    "\n",
    "def create_model(learn_rate = 0.001, momentum = 0.0, activation_layer_2='softmax', activation_layer_1='relu',\n",
    "                neurons_number_layer_1 = 128, dropout_prob_layer_2 = 0.2):\n",
    "    \n",
    "    model = tf.keras.models.Sequential([\n",
    "        \n",
    "    # flatten input array to 1d vector\n",
    "    tf.keras.layers.Flatten(input_shape=(28, 28)), # output shape is 784\n",
    "  \n",
    "    # Add first layer consisted of neurons\n",
    "    tf.keras.layers.Dense(neurons_number_layer_1, activation=activation_layer_1),\n",
    "  \n",
    "    # Random dropout of choosen percentage of parameters between layers\n",
    "    tf.keras.layers.Dropout(dropout_prob_layer_2),\n",
    "  \n",
    "    # add second layer consisted of 2 neurons\n",
    "    # output shape is 2 - one output value for each prime and composite number\n",
    "    tf.keras.layers.Dense(2, activation=activation_layer_2) \n",
    "    ])\n",
    "    \n",
    "    \n",
    "    # configure learning process\n",
    "    model.compile(optimizer='adam',\n",
    "              loss='sparse_categorical_crossentropy',\n",
    "              metrics=['accuracy'])\n",
    "\n",
    "    return model\n",
    "    "
   ]
  },
  {
   "cell_type": "code",
   "execution_count": 55,
   "metadata": {},
   "outputs": [],
   "source": [
    "# Create model object\n",
    "model = create_model()"
   ]
  },
  {
   "cell_type": "code",
   "execution_count": 56,
   "metadata": {},
   "outputs": [
    {
     "name": "stdout",
     "output_type": "stream",
     "text": [
      "Model: \"sequential_1\"\n",
      "_________________________________________________________________\n",
      "Layer (type)                 Output Shape              Param #   \n",
      "=================================================================\n",
      "flatten_1 (Flatten)          (None, 784)               0         \n",
      "_________________________________________________________________\n",
      "dense_2 (Dense)              (None, 128)               100480    \n",
      "_________________________________________________________________\n",
      "dropout_1 (Dropout)          (None, 128)               0         \n",
      "_________________________________________________________________\n",
      "dense_3 (Dense)              (None, 2)                 258       \n",
      "=================================================================\n",
      "Total params: 100,738\n",
      "Trainable params: 100,738\n",
      "Non-trainable params: 0\n",
      "_________________________________________________________________\n"
     ]
    }
   ],
   "source": [
    "# Show network structure\n",
    "model.summary()"
   ]
  },
  {
   "cell_type": "markdown",
   "metadata": {},
   "source": [
    "### Set hyperparameters' spaces"
   ]
  },
  {
   "cell_type": "markdown",
   "metadata": {},
   "source": [
    "In the section below we create lists of parameters, which will be used in random search optimization."
   ]
  },
  {
   "cell_type": "code",
   "execution_count": 57,
   "metadata": {},
   "outputs": [],
   "source": [
    "#=============================================#\n",
    "# Set parameters beeing passed in .fit method #\n",
    "#=============================================#\n",
    "\n",
    "_batch_size = [20, 60] # [20, 60, 100]\n",
    "_epochs = [10, 20] # [50, 100]\n",
    "\n",
    "#=======================================================#\n",
    "# Set parameters beeing passed to create_model function # (needed to be add as arguments)\n",
    "#=======================================================#\n",
    "\n",
    "_learn_rate = [0.001, 0.3] # [0.001, 0.01, 0.1, 0.2, 0.3]\n",
    "_momentum = [0.0] # [0.0, 0.2, 0.4, 0.6, 0.8, 0.9]\n",
    "#_init_mode = ['uniform'] # ['uniform', 'lecun_uniform', 'normal', 'zero', 'glorot_normal', 'glorot_uniform', 'he_normal', \n",
    "                         #  'he_uniform']\n",
    "_activation_layer_1 = ['relu', 'tanh'] # ['softmax', 'softplus', 'softsign', 'relu', 'tanh', 'sigmoid', 'hard_sigmoid', \n",
    "                                        # 'linear']\n",
    "_activation_layer_2 = ['softmax']\n",
    "_neurons_number_layer_1 = [128] # [64, 128, 196, 256]\n",
    "#_neurons_number_layer_2 = [40] # [32, 64, 128, 196, 256]\n",
    "#_neurons_number_layer_3 = [10] # [16, 32, 64, 128, 196, 256]\n",
    "_dropout_prob_layer_2 = [0.2]\n",
    "\n",
    "#===========================#\n",
    "# Create dict of parameters #\n",
    "#===========================#\n",
    "\n",
    "param_distributions = dict(batch_size = _batch_size, \n",
    "                           epochs = _epochs,\n",
    "                          \n",
    "                           learn_rate = _learn_rate,\n",
    "                           momentum = _momentum,\n",
    "                           \n",
    "                           #init_mode = _init_mode,\n",
    "                           \n",
    "                           activation_layer_1 = _activation_layer_1, \n",
    "                           activation_layer_2 = _activation_layer_2,\n",
    "                           \n",
    "                           neurons_number_layer_1 = _neurons_number_layer_1,\n",
    "                           # neurons_number_layer_2 = _neurons_number_layer_2,\n",
    "                           # neurons_number_layer_3 = _neurons_number_layer_3\n",
    "                           dropout_prob_layer_2 = _dropout_prob_layer_2,\n",
    "                           )\n",
    "\n",
    "\n"
   ]
  },
  {
   "cell_type": "markdown",
   "metadata": {},
   "source": [
    "### Wrap the model "
   ]
  },
  {
   "cell_type": "code",
   "execution_count": 58,
   "metadata": {},
   "outputs": [],
   "source": [
    "from tensorflow.keras.wrappers.scikit_learn import KerasClassifier\n",
    "\n",
    "# Wrap model into KerasClassifier to enable passing it to scikit-learn \n",
    "model = KerasClassifier(build_fn=create_model, verbose=4)"
   ]
  },
  {
   "cell_type": "markdown",
   "metadata": {},
   "source": [
    "Wrapping the model with KerasClassifier enable us to use the model in the way as the native Scikit-learnian model - where we may use Random Search Cross-validation, or make predictions. "
   ]
  },
  {
   "cell_type": "markdown",
   "metadata": {},
   "source": [
    "### Random Search CV"
   ]
  },
  {
   "cell_type": "code",
   "execution_count": 59,
   "metadata": {
    "scrolled": true
   },
   "outputs": [
    {
     "name": "stderr",
     "output_type": "stream",
     "text": [
      "C:\\Users\\Bartłomiej Czajewski\\AppData\\Roaming\\Python\\Python37\\site-packages\\sklearn\\model_selection\\_search.py:266: UserWarning: The total space of parameters 16 is smaller than n_iter=60. Running 16 iterations. For exhaustive searches, use GridSearchCV.\n",
      "  % (grid_size, self.n_iter, grid_size), UserWarning)\n",
      "[Parallel(n_jobs=-2)]: Using backend LokyBackend with 3 concurrent workers.\n"
     ]
    },
    {
     "name": "stdout",
     "output_type": "stream",
     "text": [
      "Fitting 3 folds for each of 16 candidates, totalling 48 fits\n"
     ]
    },
    {
     "name": "stderr",
     "output_type": "stream",
     "text": [
      "[Parallel(n_jobs=-2)]: Done  19 tasks      | elapsed: 15.0min\n",
      "C:\\Users\\Bartłomiej Czajewski\\AppData\\Roaming\\Python\\Python37\\site-packages\\joblib\\externals\\loky\\process_executor.py:706: UserWarning: A worker stopped while some jobs were given to the executor. This can be caused by a too short worker timeout or by a memory leak.\n",
      "  \"timeout or by a memory leak.\", UserWarning\n",
      "[Parallel(n_jobs=-2)]: Done  48 out of  48 | elapsed: 34.0min finished\n"
     ]
    },
    {
     "name": "stdout",
     "output_type": "stream",
     "text": [
      "Epoch 1/20\n",
      "Epoch 2/20\n",
      "Epoch 3/20\n",
      "Epoch 4/20\n",
      "Epoch 5/20\n",
      "Epoch 6/20\n",
      "Epoch 7/20\n",
      "Epoch 8/20\n",
      "Epoch 9/20\n",
      "Epoch 10/20\n",
      "Epoch 11/20\n",
      "Epoch 12/20\n",
      "Epoch 13/20\n",
      "Epoch 14/20\n",
      "Epoch 15/20\n",
      "Epoch 16/20\n",
      "Epoch 17/20\n",
      "Epoch 18/20\n",
      "Epoch 19/20\n",
      "Epoch 20/20\n"
     ]
    }
   ],
   "source": [
    "from sklearn.model_selection import RandomizedSearchCV\n",
    "# Set random seed for reproducible results\n",
    "np.random.seed(14)\n",
    "\n",
    "# Set parameters of cross validation random search\n",
    "rscv = RandomizedSearchCV(estimator=model, param_distributions=param_distributions, \n",
    "                      n_iter=60, cv=3, verbose=4, n_jobs=-2, random_state=2020,\n",
    "                      scoring='accuracy')\n",
    "\n",
    "# Train models\n",
    "rscv_results = rscv.fit(X_train, Y_train)"
   ]
  },
  {
   "cell_type": "markdown",
   "metadata": {},
   "source": [
    "## 6. Model assessment"
   ]
  },
  {
   "cell_type": "code",
   "execution_count": 60,
   "metadata": {},
   "outputs": [],
   "source": [
    "import sklearn\n",
    "# Show available metrics in sklearn\n",
    "#sorted(sklearn.metrics.SCORERS.keys())"
   ]
  },
  {
   "cell_type": "markdown",
   "metadata": {},
   "source": [
    "### Best scores overview"
   ]
  },
  {
   "cell_type": "code",
   "execution_count": 61,
   "metadata": {},
   "outputs": [
    {
     "name": "stdout",
     "output_type": "stream",
     "text": [
      "BEST PARAMETERS: {'neurons_number_layer_1': 128, 'momentum': 0.0, 'learn_rate': 0.001, 'epochs': 20, 'dropout_prob_layer_2': 0.2, 'batch_size': 20, 'activation_layer_2': 'softmax', 'activation_layer_1': 'relu'}\n",
      "\n",
      "MEAN ACCURACY SCORE IN CV WITH BEST PARAMETERS: 0.9874300200697158\n"
     ]
    }
   ],
   "source": [
    "from sklearn.metrics import accuracy_score, confusion_matrix\n",
    "\n",
    "# Evaluation\n",
    "\n",
    "# Show best parameters\n",
    "print(\"BEST PARAMETERS: \" + str(rscv_results.best_params_))\n",
    "\n",
    "# Show best CV score\n",
    "print(\"\\nMEAN ACCURACY SCORE IN CV WITH BEST PARAMETERS: \" + str(rscv_results.best_score_))"
   ]
  },
  {
   "cell_type": "markdown",
   "metadata": {},
   "source": [
    "### Full results of optimization"
   ]
  },
  {
   "cell_type": "code",
   "execution_count": 62,
   "metadata": {
    "scrolled": true
   },
   "outputs": [
    {
     "name": "stdout",
     "output_type": "stream",
     "text": [
      "Best: 0.987430 using {'neurons_number_layer_1': 128, 'momentum': 0.0, 'learn_rate': 0.001, 'epochs': 20, 'dropout_prob_layer_2': 0.2, 'batch_size': 20, 'activation_layer_2': 'softmax', 'activation_layer_1': 'relu'}\n",
      "\n",
      "Accuracy, standard deviation, rank, parameters :\n",
      "\n",
      "0.985888 0.000233 4 {'neurons_number_layer_1': 128, 'momentum': 0.0, 'learn_rate': 0.001, 'epochs': 10, 'dropout_prob_layer_2': 0.2, 'batch_size': 20, 'activation_layer_2': 'softmax', 'activation_layer_1': 'relu'}\n",
      "0.985360 0.000155 6 {'neurons_number_layer_1': 128, 'momentum': 0.0, 'learn_rate': 0.3, 'epochs': 10, 'dropout_prob_layer_2': 0.2, 'batch_size': 20, 'activation_layer_2': 'softmax', 'activation_layer_1': 'relu'}\n",
      "0.987430 0.000244 1 {'neurons_number_layer_1': 128, 'momentum': 0.0, 'learn_rate': 0.001, 'epochs': 20, 'dropout_prob_layer_2': 0.2, 'batch_size': 20, 'activation_layer_2': 'softmax', 'activation_layer_1': 'relu'}\n",
      "0.985824 0.001001 5 {'neurons_number_layer_1': 128, 'momentum': 0.0, 'learn_rate': 0.3, 'epochs': 20, 'dropout_prob_layer_2': 0.2, 'batch_size': 20, 'activation_layer_2': 'softmax', 'activation_layer_1': 'relu'}\n",
      "0.984832 0.000375 8 {'neurons_number_layer_1': 128, 'momentum': 0.0, 'learn_rate': 0.001, 'epochs': 10, 'dropout_prob_layer_2': 0.2, 'batch_size': 60, 'activation_layer_2': 'softmax', 'activation_layer_1': 'relu'}\n",
      "0.984979 0.000804 7 {'neurons_number_layer_1': 128, 'momentum': 0.0, 'learn_rate': 0.3, 'epochs': 10, 'dropout_prob_layer_2': 0.2, 'batch_size': 60, 'activation_layer_2': 'softmax', 'activation_layer_1': 'relu'}\n",
      "0.986458 0.001449 3 {'neurons_number_layer_1': 128, 'momentum': 0.0, 'learn_rate': 0.001, 'epochs': 20, 'dropout_prob_layer_2': 0.2, 'batch_size': 60, 'activation_layer_2': 'softmax', 'activation_layer_1': 'relu'}\n",
      "0.986564 0.000315 2 {'neurons_number_layer_1': 128, 'momentum': 0.0, 'learn_rate': 0.3, 'epochs': 20, 'dropout_prob_layer_2': 0.2, 'batch_size': 60, 'activation_layer_2': 'softmax', 'activation_layer_1': 'relu'}\n",
      "0.982402 0.001335 14 {'neurons_number_layer_1': 128, 'momentum': 0.0, 'learn_rate': 0.001, 'epochs': 10, 'dropout_prob_layer_2': 0.2, 'batch_size': 20, 'activation_layer_2': 'softmax', 'activation_layer_1': 'tanh'}\n",
      "0.983881 0.000577 10 {'neurons_number_layer_1': 128, 'momentum': 0.0, 'learn_rate': 0.3, 'epochs': 10, 'dropout_prob_layer_2': 0.2, 'batch_size': 20, 'activation_layer_2': 'softmax', 'activation_layer_1': 'tanh'}\n",
      "0.984663 0.001186 9 {'neurons_number_layer_1': 128, 'momentum': 0.0, 'learn_rate': 0.001, 'epochs': 20, 'dropout_prob_layer_2': 0.2, 'batch_size': 20, 'activation_layer_2': 'softmax', 'activation_layer_1': 'tanh'}\n",
      "0.983184 0.000617 12 {'neurons_number_layer_1': 128, 'momentum': 0.0, 'learn_rate': 0.3, 'epochs': 20, 'dropout_prob_layer_2': 0.2, 'batch_size': 20, 'activation_layer_2': 'softmax', 'activation_layer_1': 'tanh'}\n",
      "0.980543 0.001176 16 {'neurons_number_layer_1': 128, 'momentum': 0.0, 'learn_rate': 0.001, 'epochs': 10, 'dropout_prob_layer_2': 0.2, 'batch_size': 60, 'activation_layer_2': 'softmax', 'activation_layer_1': 'tanh'}\n",
      "0.982149 0.001091 15 {'neurons_number_layer_1': 128, 'momentum': 0.0, 'learn_rate': 0.3, 'epochs': 10, 'dropout_prob_layer_2': 0.2, 'batch_size': 60, 'activation_layer_2': 'softmax', 'activation_layer_1': 'tanh'}\n",
      "0.983754 0.000266 11 {'neurons_number_layer_1': 128, 'momentum': 0.0, 'learn_rate': 0.001, 'epochs': 20, 'dropout_prob_layer_2': 0.2, 'batch_size': 60, 'activation_layer_2': 'softmax', 'activation_layer_1': 'tanh'}\n",
      "0.982994 0.001978 13 {'neurons_number_layer_1': 128, 'momentum': 0.0, 'learn_rate': 0.3, 'epochs': 20, 'dropout_prob_layer_2': 0.2, 'batch_size': 60, 'activation_layer_2': 'softmax', 'activation_layer_1': 'tanh'}\n"
     ]
    }
   ],
   "source": [
    "# summarize results\n",
    "print(\"Best: %f using %s\" % (rscv_results.best_score_, rscv_results.best_params_))\n",
    "means = rscv_results.cv_results_['mean_test_score']\n",
    "stds = rscv_results.cv_results_['std_test_score']\n",
    "params = rscv_results.cv_results_['params']\n",
    "rank = rscv_results.cv_results_['rank_test_score']\n",
    "\n",
    "print(\"\\nAccuracy, standard deviation, rank, parameters :\\n\")\n",
    "for mean, stdev, rank, param in zip(means, stds, rank, params):\n",
    "    print(\"%f %f %d %r\" % (mean, stdev, rank, param))"
   ]
  },
  {
   "cell_type": "code",
   "execution_count": 63,
   "metadata": {},
   "outputs": [
    {
     "name": "stdout",
     "output_type": "stream",
     "text": [
      "\n",
      "Mean Accuracy Score - ON TRAIN DATA: 0.9992394633991761\n",
      "\n",
      "Mean Accuracy Score - ON TEST DATA: 0.9893468611287254\n"
     ]
    }
   ],
   "source": [
    "# Predict with best parametrized model on training set\n",
    "#y_pred_train = rs.predict(X_train) # or y_pred_train = rs_results.best_estimator_.predict(X_train)\n",
    "y_pred_cls_02_train = rscv_results.best_estimator_.predict(X_train)\n",
    "\n",
    "# Scoring on train set\n",
    "score_03 = accuracy_score(Y_train, y_pred_cls_02_train)\n",
    "print(\"\\nMean Accuracy Score - ON TRAIN DATA: {}\".format(score_03))\n",
    "\n",
    "# Predict with best parametrized model on test set\n",
    "#y_pred = rs.predict(X_test) # or y_pred = rs_results.best_estimator_.predict(X_test)\n",
    "y_pred_cls_02_test = rscv_results.best_estimator_.predict(X_test)\n",
    "\n",
    "# Scoring on test set\n",
    "score_04 = accuracy_score(Y_test, y_pred_cls_02_test)\n",
    "print(\"\\nMean Accuracy Score - ON TEST DATA: {}\".format(score_04))"
   ]
  }
 ],
 "metadata": {
  "kernelspec": {
   "display_name": "Python 3",
   "language": "python",
   "name": "python3"
  },
  "language_info": {
   "codemirror_mode": {
    "name": "ipython",
    "version": 3
   },
   "file_extension": ".py",
   "mimetype": "text/x-python",
   "name": "python",
   "nbconvert_exporter": "python",
   "pygments_lexer": "ipython3",
   "version": "3.7.3"
  }
 },
 "nbformat": 4,
 "nbformat_minor": 4
}
