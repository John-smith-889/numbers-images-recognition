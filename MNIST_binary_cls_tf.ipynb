{
 "cells": [
  {
   "cell_type": "markdown",
   "metadata": {},
   "source": [
    "# Predict if number on image is prime or composite"
   ]
  },
  {
   "cell_type": "markdown",
   "metadata": {},
   "source": [
    "Present notebook contains codes for images classification. Modified MNIST dataset has been used. 0 and 1 numbers has been deleted. Labels has been encoded into 0 and 1, where 0 is a prime number (2, 3, 5 or 7) and 1 is a composite number (4, 6, 8, or 9). The model used is custom artificial neural network. Model of the network was created with Tensorflow 2.0 and Keras as high level API. Model was tuned with Scikit-learn library. "
   ]
  },
  {
   "cell_type": "markdown",
   "metadata": {},
   "source": [
    "1. Data exploration\n",
    "2. Data preparation\n",
    "3. Data modelling\n",
    "4. Model assessment\n",
    "5. Hyperparameters tuning\n",
    "6. Model assessment"
   ]
  },
  {
   "cell_type": "markdown",
   "metadata": {},
   "source": [
    "## 1. Data exploration"
   ]
  },
  {
   "cell_type": "markdown",
   "metadata": {},
   "source": [
    "### Extract specified part of data"
   ]
  },
  {
   "cell_type": "code",
   "execution_count": 5,
   "metadata": {},
   "outputs": [],
   "source": [
    "# Extract image data:\n",
    "import gzip\n",
    "# Create BufferedReader object\n",
    "f = gzip.open('train-images-idx3-ubyte.gz','r')\n",
    "\n",
    "image_size = 28\n",
    "num_images = 5\n",
    "\n",
    "import numpy as np\n",
    "# set specificiation (?) of importing bytes\n",
    "f.read(16) # 16\n",
    "\n",
    "# read data as bytes object\n",
    "buf = f.read(image_size * image_size * num_images)\n",
    "\n",
    "# Transform bytes to float numbers in 1-dimensional ndarray \n",
    "data_1 = np.frombuffer(buf, dtype=np.uint8).astype(np.float32)\n",
    "\n",
    "# Reshape 1-dimensional array of data to 4 dimensions\n",
    "data = data_1.reshape(num_images, image_size, image_size, 1)"
   ]
  },
  {
   "cell_type": "code",
   "execution_count": 6,
   "metadata": {},
   "outputs": [
    {
     "data": {
      "text/plain": [
       "array([[[  0.],\n",
       "        [  0.],\n",
       "        [  0.],\n",
       "        [  0.],\n",
       "        [  0.],\n",
       "        [  0.],\n",
       "        [  0.],\n",
       "        [  0.],\n",
       "        [  0.],\n",
       "        [  0.],\n",
       "        [  0.],\n",
       "        [  0.],\n",
       "        [  0.],\n",
       "        [  0.],\n",
       "        [  0.],\n",
       "        [  0.],\n",
       "        [  0.],\n",
       "        [  0.],\n",
       "        [  0.],\n",
       "        [  0.],\n",
       "        [  0.],\n",
       "        [  0.],\n",
       "        [  0.],\n",
       "        [  0.],\n",
       "        [  0.],\n",
       "        [  0.],\n",
       "        [  0.],\n",
       "        [  0.]],\n",
       "\n",
       "       [[  0.],\n",
       "        [  0.],\n",
       "        [  0.],\n",
       "        [  0.],\n",
       "        [  0.],\n",
       "        [  0.],\n",
       "        [  0.],\n",
       "        [  0.],\n",
       "        [  0.],\n",
       "        [  0.],\n",
       "        [  0.],\n",
       "        [  0.],\n",
       "        [  0.],\n",
       "        [  0.],\n",
       "        [  0.],\n",
       "        [  0.],\n",
       "        [  0.],\n",
       "        [  0.],\n",
       "        [  0.],\n",
       "        [  0.],\n",
       "        [  0.],\n",
       "        [  0.],\n",
       "        [  0.],\n",
       "        [  0.],\n",
       "        [  0.],\n",
       "        [  0.],\n",
       "        [  0.],\n",
       "        [  0.]],\n",
       "\n",
       "       [[  0.],\n",
       "        [  0.],\n",
       "        [  0.],\n",
       "        [  0.],\n",
       "        [  0.],\n",
       "        [  0.],\n",
       "        [  0.],\n",
       "        [  0.],\n",
       "        [  0.],\n",
       "        [  0.],\n",
       "        [  0.],\n",
       "        [  0.],\n",
       "        [  0.],\n",
       "        [  0.],\n",
       "        [  0.],\n",
       "        [  0.],\n",
       "        [  0.],\n",
       "        [  0.],\n",
       "        [  0.],\n",
       "        [  0.],\n",
       "        [  0.],\n",
       "        [  0.],\n",
       "        [  0.],\n",
       "        [  0.],\n",
       "        [  0.],\n",
       "        [  0.],\n",
       "        [  0.],\n",
       "        [  0.]],\n",
       "\n",
       "       [[  0.],\n",
       "        [  0.],\n",
       "        [  0.],\n",
       "        [  0.],\n",
       "        [  0.],\n",
       "        [  0.],\n",
       "        [  0.],\n",
       "        [  0.],\n",
       "        [  0.],\n",
       "        [  0.],\n",
       "        [  0.],\n",
       "        [  0.],\n",
       "        [  0.],\n",
       "        [  0.],\n",
       "        [  0.],\n",
       "        [  0.],\n",
       "        [  0.],\n",
       "        [  0.],\n",
       "        [  0.],\n",
       "        [  0.],\n",
       "        [  0.],\n",
       "        [  0.],\n",
       "        [  0.],\n",
       "        [  0.],\n",
       "        [  0.],\n",
       "        [  0.],\n",
       "        [  0.],\n",
       "        [  0.]],\n",
       "\n",
       "       [[  0.],\n",
       "        [  0.],\n",
       "        [  0.],\n",
       "        [  0.],\n",
       "        [  0.],\n",
       "        [  0.],\n",
       "        [  0.],\n",
       "        [  0.],\n",
       "        [  0.],\n",
       "        [  0.],\n",
       "        [  0.],\n",
       "        [  0.],\n",
       "        [  0.],\n",
       "        [  0.],\n",
       "        [  0.],\n",
       "        [  0.],\n",
       "        [  0.],\n",
       "        [  0.],\n",
       "        [  0.],\n",
       "        [  0.],\n",
       "        [  0.],\n",
       "        [  0.],\n",
       "        [  0.],\n",
       "        [  0.],\n",
       "        [  0.],\n",
       "        [  0.],\n",
       "        [  0.],\n",
       "        [  0.]],\n",
       "\n",
       "       [[  0.],\n",
       "        [  0.],\n",
       "        [  0.],\n",
       "        [  0.],\n",
       "        [  0.],\n",
       "        [  0.],\n",
       "        [  0.],\n",
       "        [  0.],\n",
       "        [  0.],\n",
       "        [  0.],\n",
       "        [  0.],\n",
       "        [  0.],\n",
       "        [  3.],\n",
       "        [ 18.],\n",
       "        [ 18.],\n",
       "        [ 18.],\n",
       "        [126.],\n",
       "        [136.],\n",
       "        [175.],\n",
       "        [ 26.],\n",
       "        [166.],\n",
       "        [255.],\n",
       "        [247.],\n",
       "        [127.],\n",
       "        [  0.],\n",
       "        [  0.],\n",
       "        [  0.],\n",
       "        [  0.]],\n",
       "\n",
       "       [[  0.],\n",
       "        [  0.],\n",
       "        [  0.],\n",
       "        [  0.],\n",
       "        [  0.],\n",
       "        [  0.],\n",
       "        [  0.],\n",
       "        [  0.],\n",
       "        [ 30.],\n",
       "        [ 36.],\n",
       "        [ 94.],\n",
       "        [154.],\n",
       "        [170.],\n",
       "        [253.],\n",
       "        [253.],\n",
       "        [253.],\n",
       "        [253.],\n",
       "        [253.],\n",
       "        [225.],\n",
       "        [172.],\n",
       "        [253.],\n",
       "        [242.],\n",
       "        [195.],\n",
       "        [ 64.],\n",
       "        [  0.],\n",
       "        [  0.],\n",
       "        [  0.],\n",
       "        [  0.]],\n",
       "\n",
       "       [[  0.],\n",
       "        [  0.],\n",
       "        [  0.],\n",
       "        [  0.],\n",
       "        [  0.],\n",
       "        [  0.],\n",
       "        [  0.],\n",
       "        [ 49.],\n",
       "        [238.],\n",
       "        [253.],\n",
       "        [253.],\n",
       "        [253.],\n",
       "        [253.],\n",
       "        [253.],\n",
       "        [253.],\n",
       "        [253.],\n",
       "        [253.],\n",
       "        [251.],\n",
       "        [ 93.],\n",
       "        [ 82.],\n",
       "        [ 82.],\n",
       "        [ 56.],\n",
       "        [ 39.],\n",
       "        [  0.],\n",
       "        [  0.],\n",
       "        [  0.],\n",
       "        [  0.],\n",
       "        [  0.]],\n",
       "\n",
       "       [[  0.],\n",
       "        [  0.],\n",
       "        [  0.],\n",
       "        [  0.],\n",
       "        [  0.],\n",
       "        [  0.],\n",
       "        [  0.],\n",
       "        [ 18.],\n",
       "        [219.],\n",
       "        [253.],\n",
       "        [253.],\n",
       "        [253.],\n",
       "        [253.],\n",
       "        [253.],\n",
       "        [198.],\n",
       "        [182.],\n",
       "        [247.],\n",
       "        [241.],\n",
       "        [  0.],\n",
       "        [  0.],\n",
       "        [  0.],\n",
       "        [  0.],\n",
       "        [  0.],\n",
       "        [  0.],\n",
       "        [  0.],\n",
       "        [  0.],\n",
       "        [  0.],\n",
       "        [  0.]],\n",
       "\n",
       "       [[  0.],\n",
       "        [  0.],\n",
       "        [  0.],\n",
       "        [  0.],\n",
       "        [  0.],\n",
       "        [  0.],\n",
       "        [  0.],\n",
       "        [  0.],\n",
       "        [ 80.],\n",
       "        [156.],\n",
       "        [107.],\n",
       "        [253.],\n",
       "        [253.],\n",
       "        [205.],\n",
       "        [ 11.],\n",
       "        [  0.],\n",
       "        [ 43.],\n",
       "        [154.],\n",
       "        [  0.],\n",
       "        [  0.],\n",
       "        [  0.],\n",
       "        [  0.],\n",
       "        [  0.],\n",
       "        [  0.],\n",
       "        [  0.],\n",
       "        [  0.],\n",
       "        [  0.],\n",
       "        [  0.]],\n",
       "\n",
       "       [[  0.],\n",
       "        [  0.],\n",
       "        [  0.],\n",
       "        [  0.],\n",
       "        [  0.],\n",
       "        [  0.],\n",
       "        [  0.],\n",
       "        [  0.],\n",
       "        [  0.],\n",
       "        [ 14.],\n",
       "        [  1.],\n",
       "        [154.],\n",
       "        [253.],\n",
       "        [ 90.],\n",
       "        [  0.],\n",
       "        [  0.],\n",
       "        [  0.],\n",
       "        [  0.],\n",
       "        [  0.],\n",
       "        [  0.],\n",
       "        [  0.],\n",
       "        [  0.],\n",
       "        [  0.],\n",
       "        [  0.],\n",
       "        [  0.],\n",
       "        [  0.],\n",
       "        [  0.],\n",
       "        [  0.]],\n",
       "\n",
       "       [[  0.],\n",
       "        [  0.],\n",
       "        [  0.],\n",
       "        [  0.],\n",
       "        [  0.],\n",
       "        [  0.],\n",
       "        [  0.],\n",
       "        [  0.],\n",
       "        [  0.],\n",
       "        [  0.],\n",
       "        [  0.],\n",
       "        [139.],\n",
       "        [253.],\n",
       "        [190.],\n",
       "        [  2.],\n",
       "        [  0.],\n",
       "        [  0.],\n",
       "        [  0.],\n",
       "        [  0.],\n",
       "        [  0.],\n",
       "        [  0.],\n",
       "        [  0.],\n",
       "        [  0.],\n",
       "        [  0.],\n",
       "        [  0.],\n",
       "        [  0.],\n",
       "        [  0.],\n",
       "        [  0.]],\n",
       "\n",
       "       [[  0.],\n",
       "        [  0.],\n",
       "        [  0.],\n",
       "        [  0.],\n",
       "        [  0.],\n",
       "        [  0.],\n",
       "        [  0.],\n",
       "        [  0.],\n",
       "        [  0.],\n",
       "        [  0.],\n",
       "        [  0.],\n",
       "        [ 11.],\n",
       "        [190.],\n",
       "        [253.],\n",
       "        [ 70.],\n",
       "        [  0.],\n",
       "        [  0.],\n",
       "        [  0.],\n",
       "        [  0.],\n",
       "        [  0.],\n",
       "        [  0.],\n",
       "        [  0.],\n",
       "        [  0.],\n",
       "        [  0.],\n",
       "        [  0.],\n",
       "        [  0.],\n",
       "        [  0.],\n",
       "        [  0.]],\n",
       "\n",
       "       [[  0.],\n",
       "        [  0.],\n",
       "        [  0.],\n",
       "        [  0.],\n",
       "        [  0.],\n",
       "        [  0.],\n",
       "        [  0.],\n",
       "        [  0.],\n",
       "        [  0.],\n",
       "        [  0.],\n",
       "        [  0.],\n",
       "        [  0.],\n",
       "        [ 35.],\n",
       "        [241.],\n",
       "        [225.],\n",
       "        [160.],\n",
       "        [108.],\n",
       "        [  1.],\n",
       "        [  0.],\n",
       "        [  0.],\n",
       "        [  0.],\n",
       "        [  0.],\n",
       "        [  0.],\n",
       "        [  0.],\n",
       "        [  0.],\n",
       "        [  0.],\n",
       "        [  0.],\n",
       "        [  0.]],\n",
       "\n",
       "       [[  0.],\n",
       "        [  0.],\n",
       "        [  0.],\n",
       "        [  0.],\n",
       "        [  0.],\n",
       "        [  0.],\n",
       "        [  0.],\n",
       "        [  0.],\n",
       "        [  0.],\n",
       "        [  0.],\n",
       "        [  0.],\n",
       "        [  0.],\n",
       "        [  0.],\n",
       "        [ 81.],\n",
       "        [240.],\n",
       "        [253.],\n",
       "        [253.],\n",
       "        [119.],\n",
       "        [ 25.],\n",
       "        [  0.],\n",
       "        [  0.],\n",
       "        [  0.],\n",
       "        [  0.],\n",
       "        [  0.],\n",
       "        [  0.],\n",
       "        [  0.],\n",
       "        [  0.],\n",
       "        [  0.]],\n",
       "\n",
       "       [[  0.],\n",
       "        [  0.],\n",
       "        [  0.],\n",
       "        [  0.],\n",
       "        [  0.],\n",
       "        [  0.],\n",
       "        [  0.],\n",
       "        [  0.],\n",
       "        [  0.],\n",
       "        [  0.],\n",
       "        [  0.],\n",
       "        [  0.],\n",
       "        [  0.],\n",
       "        [  0.],\n",
       "        [ 45.],\n",
       "        [186.],\n",
       "        [253.],\n",
       "        [253.],\n",
       "        [150.],\n",
       "        [ 27.],\n",
       "        [  0.],\n",
       "        [  0.],\n",
       "        [  0.],\n",
       "        [  0.],\n",
       "        [  0.],\n",
       "        [  0.],\n",
       "        [  0.],\n",
       "        [  0.]],\n",
       "\n",
       "       [[  0.],\n",
       "        [  0.],\n",
       "        [  0.],\n",
       "        [  0.],\n",
       "        [  0.],\n",
       "        [  0.],\n",
       "        [  0.],\n",
       "        [  0.],\n",
       "        [  0.],\n",
       "        [  0.],\n",
       "        [  0.],\n",
       "        [  0.],\n",
       "        [  0.],\n",
       "        [  0.],\n",
       "        [  0.],\n",
       "        [ 16.],\n",
       "        [ 93.],\n",
       "        [252.],\n",
       "        [253.],\n",
       "        [187.],\n",
       "        [  0.],\n",
       "        [  0.],\n",
       "        [  0.],\n",
       "        [  0.],\n",
       "        [  0.],\n",
       "        [  0.],\n",
       "        [  0.],\n",
       "        [  0.]],\n",
       "\n",
       "       [[  0.],\n",
       "        [  0.],\n",
       "        [  0.],\n",
       "        [  0.],\n",
       "        [  0.],\n",
       "        [  0.],\n",
       "        [  0.],\n",
       "        [  0.],\n",
       "        [  0.],\n",
       "        [  0.],\n",
       "        [  0.],\n",
       "        [  0.],\n",
       "        [  0.],\n",
       "        [  0.],\n",
       "        [  0.],\n",
       "        [  0.],\n",
       "        [  0.],\n",
       "        [249.],\n",
       "        [253.],\n",
       "        [249.],\n",
       "        [ 64.],\n",
       "        [  0.],\n",
       "        [  0.],\n",
       "        [  0.],\n",
       "        [  0.],\n",
       "        [  0.],\n",
       "        [  0.],\n",
       "        [  0.]],\n",
       "\n",
       "       [[  0.],\n",
       "        [  0.],\n",
       "        [  0.],\n",
       "        [  0.],\n",
       "        [  0.],\n",
       "        [  0.],\n",
       "        [  0.],\n",
       "        [  0.],\n",
       "        [  0.],\n",
       "        [  0.],\n",
       "        [  0.],\n",
       "        [  0.],\n",
       "        [  0.],\n",
       "        [  0.],\n",
       "        [ 46.],\n",
       "        [130.],\n",
       "        [183.],\n",
       "        [253.],\n",
       "        [253.],\n",
       "        [207.],\n",
       "        [  2.],\n",
       "        [  0.],\n",
       "        [  0.],\n",
       "        [  0.],\n",
       "        [  0.],\n",
       "        [  0.],\n",
       "        [  0.],\n",
       "        [  0.]],\n",
       "\n",
       "       [[  0.],\n",
       "        [  0.],\n",
       "        [  0.],\n",
       "        [  0.],\n",
       "        [  0.],\n",
       "        [  0.],\n",
       "        [  0.],\n",
       "        [  0.],\n",
       "        [  0.],\n",
       "        [  0.],\n",
       "        [  0.],\n",
       "        [  0.],\n",
       "        [ 39.],\n",
       "        [148.],\n",
       "        [229.],\n",
       "        [253.],\n",
       "        [253.],\n",
       "        [253.],\n",
       "        [250.],\n",
       "        [182.],\n",
       "        [  0.],\n",
       "        [  0.],\n",
       "        [  0.],\n",
       "        [  0.],\n",
       "        [  0.],\n",
       "        [  0.],\n",
       "        [  0.],\n",
       "        [  0.]],\n",
       "\n",
       "       [[  0.],\n",
       "        [  0.],\n",
       "        [  0.],\n",
       "        [  0.],\n",
       "        [  0.],\n",
       "        [  0.],\n",
       "        [  0.],\n",
       "        [  0.],\n",
       "        [  0.],\n",
       "        [  0.],\n",
       "        [ 24.],\n",
       "        [114.],\n",
       "        [221.],\n",
       "        [253.],\n",
       "        [253.],\n",
       "        [253.],\n",
       "        [253.],\n",
       "        [201.],\n",
       "        [ 78.],\n",
       "        [  0.],\n",
       "        [  0.],\n",
       "        [  0.],\n",
       "        [  0.],\n",
       "        [  0.],\n",
       "        [  0.],\n",
       "        [  0.],\n",
       "        [  0.],\n",
       "        [  0.]],\n",
       "\n",
       "       [[  0.],\n",
       "        [  0.],\n",
       "        [  0.],\n",
       "        [  0.],\n",
       "        [  0.],\n",
       "        [  0.],\n",
       "        [  0.],\n",
       "        [  0.],\n",
       "        [ 23.],\n",
       "        [ 66.],\n",
       "        [213.],\n",
       "        [253.],\n",
       "        [253.],\n",
       "        [253.],\n",
       "        [253.],\n",
       "        [198.],\n",
       "        [ 81.],\n",
       "        [  2.],\n",
       "        [  0.],\n",
       "        [  0.],\n",
       "        [  0.],\n",
       "        [  0.],\n",
       "        [  0.],\n",
       "        [  0.],\n",
       "        [  0.],\n",
       "        [  0.],\n",
       "        [  0.],\n",
       "        [  0.]],\n",
       "\n",
       "       [[  0.],\n",
       "        [  0.],\n",
       "        [  0.],\n",
       "        [  0.],\n",
       "        [  0.],\n",
       "        [  0.],\n",
       "        [ 18.],\n",
       "        [171.],\n",
       "        [219.],\n",
       "        [253.],\n",
       "        [253.],\n",
       "        [253.],\n",
       "        [253.],\n",
       "        [195.],\n",
       "        [ 80.],\n",
       "        [  9.],\n",
       "        [  0.],\n",
       "        [  0.],\n",
       "        [  0.],\n",
       "        [  0.],\n",
       "        [  0.],\n",
       "        [  0.],\n",
       "        [  0.],\n",
       "        [  0.],\n",
       "        [  0.],\n",
       "        [  0.],\n",
       "        [  0.],\n",
       "        [  0.]],\n",
       "\n",
       "       [[  0.],\n",
       "        [  0.],\n",
       "        [  0.],\n",
       "        [  0.],\n",
       "        [ 55.],\n",
       "        [172.],\n",
       "        [226.],\n",
       "        [253.],\n",
       "        [253.],\n",
       "        [253.],\n",
       "        [253.],\n",
       "        [244.],\n",
       "        [133.],\n",
       "        [ 11.],\n",
       "        [  0.],\n",
       "        [  0.],\n",
       "        [  0.],\n",
       "        [  0.],\n",
       "        [  0.],\n",
       "        [  0.],\n",
       "        [  0.],\n",
       "        [  0.],\n",
       "        [  0.],\n",
       "        [  0.],\n",
       "        [  0.],\n",
       "        [  0.],\n",
       "        [  0.],\n",
       "        [  0.]],\n",
       "\n",
       "       [[  0.],\n",
       "        [  0.],\n",
       "        [  0.],\n",
       "        [  0.],\n",
       "        [136.],\n",
       "        [253.],\n",
       "        [253.],\n",
       "        [253.],\n",
       "        [212.],\n",
       "        [135.],\n",
       "        [132.],\n",
       "        [ 16.],\n",
       "        [  0.],\n",
       "        [  0.],\n",
       "        [  0.],\n",
       "        [  0.],\n",
       "        [  0.],\n",
       "        [  0.],\n",
       "        [  0.],\n",
       "        [  0.],\n",
       "        [  0.],\n",
       "        [  0.],\n",
       "        [  0.],\n",
       "        [  0.],\n",
       "        [  0.],\n",
       "        [  0.],\n",
       "        [  0.],\n",
       "        [  0.]],\n",
       "\n",
       "       [[  0.],\n",
       "        [  0.],\n",
       "        [  0.],\n",
       "        [  0.],\n",
       "        [  0.],\n",
       "        [  0.],\n",
       "        [  0.],\n",
       "        [  0.],\n",
       "        [  0.],\n",
       "        [  0.],\n",
       "        [  0.],\n",
       "        [  0.],\n",
       "        [  0.],\n",
       "        [  0.],\n",
       "        [  0.],\n",
       "        [  0.],\n",
       "        [  0.],\n",
       "        [  0.],\n",
       "        [  0.],\n",
       "        [  0.],\n",
       "        [  0.],\n",
       "        [  0.],\n",
       "        [  0.],\n",
       "        [  0.],\n",
       "        [  0.],\n",
       "        [  0.],\n",
       "        [  0.],\n",
       "        [  0.]],\n",
       "\n",
       "       [[  0.],\n",
       "        [  0.],\n",
       "        [  0.],\n",
       "        [  0.],\n",
       "        [  0.],\n",
       "        [  0.],\n",
       "        [  0.],\n",
       "        [  0.],\n",
       "        [  0.],\n",
       "        [  0.],\n",
       "        [  0.],\n",
       "        [  0.],\n",
       "        [  0.],\n",
       "        [  0.],\n",
       "        [  0.],\n",
       "        [  0.],\n",
       "        [  0.],\n",
       "        [  0.],\n",
       "        [  0.],\n",
       "        [  0.],\n",
       "        [  0.],\n",
       "        [  0.],\n",
       "        [  0.],\n",
       "        [  0.],\n",
       "        [  0.],\n",
       "        [  0.],\n",
       "        [  0.],\n",
       "        [  0.]],\n",
       "\n",
       "       [[  0.],\n",
       "        [  0.],\n",
       "        [  0.],\n",
       "        [  0.],\n",
       "        [  0.],\n",
       "        [  0.],\n",
       "        [  0.],\n",
       "        [  0.],\n",
       "        [  0.],\n",
       "        [  0.],\n",
       "        [  0.],\n",
       "        [  0.],\n",
       "        [  0.],\n",
       "        [  0.],\n",
       "        [  0.],\n",
       "        [  0.],\n",
       "        [  0.],\n",
       "        [  0.],\n",
       "        [  0.],\n",
       "        [  0.],\n",
       "        [  0.],\n",
       "        [  0.],\n",
       "        [  0.],\n",
       "        [  0.],\n",
       "        [  0.],\n",
       "        [  0.],\n",
       "        [  0.],\n",
       "        [  0.]]], dtype=float32)"
      ]
     },
     "execution_count": 6,
     "metadata": {},
     "output_type": "execute_result"
    }
   ],
   "source": [
    "# show 1-st row of ndarray (1-st dimension of data)\n",
    "data[0]"
   ]
  },
  {
   "cell_type": "code",
   "execution_count": 7,
   "metadata": {},
   "outputs": [
    {
     "data": {
      "text/plain": [
       "(5, 28, 28, 1)"
      ]
     },
     "execution_count": 7,
     "metadata": {},
     "output_type": "execute_result"
    }
   ],
   "source": [
    "# Show shape of final ndarray\n",
    "data.shape"
   ]
  },
  {
   "cell_type": "markdown",
   "metadata": {},
   "source": [
    "### Show choosen picture"
   ]
  },
  {
   "cell_type": "code",
   "execution_count": 8,
   "metadata": {},
   "outputs": [
    {
     "data": {
      "image/png": "[encoded data removed]",
      "text/plain": [
       "<Figure size 432x288 with 1 Axes>"
      ]
     },
     "metadata": {
      "needs_background": "light"
     },
     "output_type": "display_data"
    }
   ],
   "source": [
    "import matplotlib.pyplot as plt\n",
    "# Cut first row, and reshape joining all sub arrays (from 1-st row)\n",
    "image = np.asarray(data[0]).squeeze()\n",
    "plt.imshow(image)\n",
    "plt.show()"
   ]
  },
  {
   "cell_type": "code",
   "execution_count": 9,
   "metadata": {
    "scrolled": true
   },
   "outputs": [
    {
     "name": "stdout",
     "output_type": "stream",
     "text": [
      "[5]\n",
      "[0]\n",
      "[4]\n",
      "[1]\n",
      "[9]\n",
      "[2]\n",
      "[1]\n",
      "[3]\n",
      "[1]\n",
      "[4]\n"
     ]
    }
   ],
   "source": [
    "# Print first 10 labels:\n",
    "\n",
    "# Create BufferedReader object\n",
    "f = gzip.open('train-labels-idx1-ubyte.gz','r')\n",
    "\n",
    "# set specificiation (?) of importing bytes\n",
    "f.read(8) # 8\n",
    "\n",
    "# Print labels in loop\n",
    "for i in range(0,10):   \n",
    "    buf = f.read(1) # read first byte?\n",
    "    labels = np.frombuffer(buf, dtype=np.uint8).astype(np.int64)\n",
    "    print(labels)"
   ]
  },
  {
   "cell_type": "markdown",
   "metadata": {},
   "source": [
    "### Extract data"
   ]
  },
  {
   "cell_type": "code",
   "execution_count": 10,
   "metadata": {},
   "outputs": [],
   "source": [
    "import idx2numpy\n",
    "import numpy as np\n",
    "\n",
    "train_images_arr = idx2numpy.convert_from_file('train-images.idx3-ubyte')\n",
    "# arr is now ndarray object of shape 60000, 28, 28\n",
    "train_labels_arr = idx2numpy.convert_from_file('train-labels.idx1-ubyte')\n",
    "\n",
    "test_images_arr = idx2numpy.convert_from_file('t10k-images.idx3-ubyte')\n",
    "test_labels_arr = idx2numpy.convert_from_file('t10k-labels.idx1-ubyte')"
   ]
  },
  {
   "cell_type": "markdown",
   "metadata": {},
   "source": [
    "### Check shape of arrays"
   ]
  },
  {
   "cell_type": "code",
   "execution_count": 11,
   "metadata": {},
   "outputs": [
    {
     "data": {
      "text/plain": [
       "(60000, 28, 28)"
      ]
     },
     "execution_count": 11,
     "metadata": {},
     "output_type": "execute_result"
    }
   ],
   "source": [
    "train_images_arr.shape"
   ]
  },
  {
   "cell_type": "code",
   "execution_count": 12,
   "metadata": {
    "scrolled": true
   },
   "outputs": [
    {
     "data": {
      "text/plain": [
       "(60000,)"
      ]
     },
     "execution_count": 12,
     "metadata": {},
     "output_type": "execute_result"
    }
   ],
   "source": [
    "train_labels_arr.shape"
   ]
  },
  {
   "cell_type": "code",
   "execution_count": 13,
   "metadata": {},
   "outputs": [
    {
     "data": {
      "text/plain": [
       "(10000, 28, 28)"
      ]
     },
     "execution_count": 13,
     "metadata": {},
     "output_type": "execute_result"
    }
   ],
   "source": [
    "test_images_arr.shape"
   ]
  },
  {
   "cell_type": "code",
   "execution_count": 14,
   "metadata": {
    "scrolled": true
   },
   "outputs": [
    {
     "data": {
      "text/plain": [
       "(10000,)"
      ]
     },
     "execution_count": 14,
     "metadata": {},
     "output_type": "execute_result"
    }
   ],
   "source": [
    "test_labels_arr.shape"
   ]
  },
  {
   "cell_type": "markdown",
   "metadata": {},
   "source": [
    "## 2. Data preparation"
   ]
  },
  {
   "cell_type": "markdown",
   "metadata": {},
   "source": [
    "### Recode dataset"
   ]
  },
  {
   "cell_type": "code",
   "execution_count": 15,
   "metadata": {},
   "outputs": [],
   "source": [
    "# 1) Remove 0 and 1 from dataset \n",
    "\n",
    "# 2)  Recode labels from (2,3,5,7) to 0 (as prime numbers)\n",
    "#     Recode labels from (4,6,8,9) to 1 (as composite numbers)\n"
   ]
  },
  {
   "cell_type": "code",
   "execution_count": 16,
   "metadata": {},
   "outputs": [],
   "source": [
    "# Delete 0 and 1 from train dataset"
   ]
  },
  {
   "cell_type": "code",
   "execution_count": 17,
   "metadata": {},
   "outputs": [],
   "source": [
    "# Get indices of 0, 1 from train set / check on which positions they are\n",
    "indices_0_1_train = [i for i, value in np.ndenumerate(train_labels_arr) if value == 0 or value == 1 ]"
   ]
  },
  {
   "cell_type": "code",
   "execution_count": 105,
   "metadata": {},
   "outputs": [
    {
     "data": {
      "text/plain": [
       "[(1,), (3,), (6,), (8,), (14,), (21,), (23,), (24,), (34,), (37,)]"
      ]
     },
     "execution_count": 105,
     "metadata": {},
     "output_type": "execute_result"
    }
   ],
   "source": [
    "indices_0_1_train[:10]"
   ]
  },
  {
   "cell_type": "code",
   "execution_count": 19,
   "metadata": {},
   "outputs": [
    {
     "data": {
      "text/plain": [
       "12665"
      ]
     },
     "execution_count": 19,
     "metadata": {},
     "output_type": "execute_result"
    }
   ],
   "source": [
    "len(indices_0_1_train)"
   ]
  },
  {
   "cell_type": "code",
   "execution_count": 108,
   "metadata": {
    "scrolled": true
   },
   "outputs": [
    {
     "data": {
      "text/plain": [
       "array([5, 0, 4, 1, 9, 2, 1, 3, 1, 4], dtype=uint8)"
      ]
     },
     "execution_count": 108,
     "metadata": {},
     "output_type": "execute_result"
    }
   ],
   "source": [
    "# Check labels in training set\n",
    "train_labels_arr[:10]"
   ]
  },
  {
   "cell_type": "code",
   "execution_count": 21,
   "metadata": {},
   "outputs": [],
   "source": [
    "# Get indices of 0, 1 from test set\n",
    "indices_0_1_test = [i for i, value in np.ndenumerate(test_labels_arr) if value == 0 or value == 1 ]\n"
   ]
  },
  {
   "cell_type": "code",
   "execution_count": 22,
   "metadata": {},
   "outputs": [
    {
     "data": {
      "text/plain": [
       "[(2,), (3,), (5,), (10,)]"
      ]
     },
     "execution_count": 22,
     "metadata": {},
     "output_type": "execute_result"
    }
   ],
   "source": [
    "indices_0_1_test[:4]"
   ]
  },
  {
   "cell_type": "markdown",
   "metadata": {},
   "source": [
    "### Delete 0 and 1 from images and labels arrays"
   ]
  },
  {
   "cell_type": "code",
   "execution_count": 23,
   "metadata": {},
   "outputs": [],
   "source": [
    "# Delete labels of 0, 1 from train set\n",
    "train_labels_arr_2 = np.delete(train_labels_arr, indices_0_1_train, axis=None)\n",
    "# Delete pictures of 0, 1 from train set\n",
    "train_images_arr_2 = np.delete(train_images_arr, indices_0_1_train, axis=0)\n",
    "\n",
    "# Delete labels of 0, 1 from test set\n",
    "test_labels_arr_2 = np.delete(test_labels_arr, indices_0_1_test, axis=None)\n",
    "# Delete pictures of 0, 1 from test set\n",
    "test_images_arr_2 = np.delete(test_images_arr, indices_0_1_test, axis=0)\n"
   ]
  },
  {
   "cell_type": "code",
   "execution_count": 24,
   "metadata": {},
   "outputs": [
    {
     "data": {
      "text/plain": [
       "(47335,)"
      ]
     },
     "execution_count": 24,
     "metadata": {},
     "output_type": "execute_result"
    }
   ],
   "source": [
    "train_labels_arr_2.shape"
   ]
  },
  {
   "cell_type": "code",
   "execution_count": 25,
   "metadata": {},
   "outputs": [
    {
     "data": {
      "text/plain": [
       "(47335, 28, 28)"
      ]
     },
     "execution_count": 25,
     "metadata": {},
     "output_type": "execute_result"
    }
   ],
   "source": [
    "train_images_arr_2.shape"
   ]
  },
  {
   "cell_type": "code",
   "execution_count": 26,
   "metadata": {},
   "outputs": [
    {
     "data": {
      "text/plain": [
       "(7885,)"
      ]
     },
     "execution_count": 26,
     "metadata": {},
     "output_type": "execute_result"
    }
   ],
   "source": [
    "test_labels_arr_2.shape"
   ]
  },
  {
   "cell_type": "code",
   "execution_count": 27,
   "metadata": {
    "scrolled": true
   },
   "outputs": [
    {
     "data": {
      "text/plain": [
       "(7885, 28, 28)"
      ]
     },
     "execution_count": 27,
     "metadata": {},
     "output_type": "execute_result"
    }
   ],
   "source": [
    "test_images_arr_2.shape"
   ]
  },
  {
   "cell_type": "markdown",
   "metadata": {},
   "source": [
    "### Recoding training set"
   ]
  },
  {
   "cell_type": "code",
   "execution_count": 28,
   "metadata": {},
   "outputs": [],
   "source": [
    "# 2)  Recode labels from (2,3,5,7) to 0 (as prime numbers)\n",
    "#     Recode labels from (4,6,8,9) to 1 (as composite numbers)"
   ]
  },
  {
   "cell_type": "code",
   "execution_count": 29,
   "metadata": {},
   "outputs": [],
   "source": [
    "# Recode labels from (2,3,5,7) to 0 (as prime numbers)\n",
    "train_labels_arr_2[ (train_labels_arr_2 == 2)|(train_labels_arr_2 == 3)|(train_labels_arr_2 == 5)|(train_labels_arr_2 == 7)] = 0"
   ]
  },
  {
   "cell_type": "code",
   "execution_count": 30,
   "metadata": {},
   "outputs": [
    {
     "data": {
      "text/plain": [
       "array([0, 4, 9, 0, 0, 4, 0, 0, 0, 6, 0, 0, 8, 6, 9, 4, 9, 0, 4, 0, 0, 0,\n",
       "       0, 8, 6, 9, 0, 6, 0, 6, 8, 0, 9, 0, 9, 8, 0, 9, 0, 0, 0, 4, 9, 8,\n",
       "       9, 4, 4, 4, 6, 4, 0, 6, 0, 6, 0, 0, 0, 9, 0, 6, 0, 8, 0, 9, 4, 6,\n",
       "       0, 4, 6, 8], dtype=uint8)"
      ]
     },
     "execution_count": 30,
     "metadata": {},
     "output_type": "execute_result"
    }
   ],
   "source": [
    "train_labels_arr_2[:70]"
   ]
  },
  {
   "cell_type": "code",
   "execution_count": 31,
   "metadata": {},
   "outputs": [],
   "source": [
    "# Check frequencies in changed ndarray\n",
    "(unique, counts) = np.unique(train_labels_arr_2, return_counts=True)\n",
    "frequencies = np.asarray((unique, counts)).T"
   ]
  },
  {
   "cell_type": "code",
   "execution_count": 32,
   "metadata": {},
   "outputs": [
    {
     "data": {
      "text/plain": [
       "array([[    0, 23775],\n",
       "       [    4,  5842],\n",
       "       [    6,  5918],\n",
       "       [    8,  5851],\n",
       "       [    9,  5949]], dtype=int64)"
      ]
     },
     "execution_count": 32,
     "metadata": {},
     "output_type": "execute_result"
    }
   ],
   "source": [
    "frequencies"
   ]
  },
  {
   "cell_type": "code",
   "execution_count": 33,
   "metadata": {},
   "outputs": [],
   "source": [
    "# Recode labels from (4,6,8,9) to 1 (as composite numbers)\n",
    "train_labels_arr_2[ (train_labels_arr_2 == 4)|(train_labels_arr_2 == 6)|(train_labels_arr_2 == 8)|(train_labels_arr_2 == 9)] = 1"
   ]
  },
  {
   "cell_type": "code",
   "execution_count": 34,
   "metadata": {},
   "outputs": [],
   "source": [
    "# Check frequencies in changed ndarray\n",
    "(unique, counts) = np.unique(train_labels_arr_2, return_counts=True)\n",
    "frequencies = np.asarray((unique, counts)).T"
   ]
  },
  {
   "cell_type": "code",
   "execution_count": 35,
   "metadata": {},
   "outputs": [
    {
     "data": {
      "text/plain": [
       "array([[    0, 23775],\n",
       "       [    1, 23560]], dtype=int64)"
      ]
     },
     "execution_count": 35,
     "metadata": {},
     "output_type": "execute_result"
    }
   ],
   "source": [
    "frequencies"
   ]
  },
  {
   "cell_type": "markdown",
   "metadata": {},
   "source": [
    "### Recoding test set"
   ]
  },
  {
   "cell_type": "code",
   "execution_count": 36,
   "metadata": {},
   "outputs": [],
   "source": [
    "# Recode labels from (2,3,5,7) to 0 (as prime numbers)\n",
    "test_labels_arr_2[ (test_labels_arr_2 == 2)|(test_labels_arr_2 == 3)|(test_labels_arr_2 == 5)|(test_labels_arr_2 == 7)] = 0"
   ]
  },
  {
   "cell_type": "code",
   "execution_count": 37,
   "metadata": {},
   "outputs": [
    {
     "data": {
      "text/plain": [
       "array([0, 0, 4, 4, 9, 0, 9, 6, 9, 0, 9, 0, 0, 4, 9, 6, 6, 0, 4, 0, 4, 0,\n",
       "       0, 4, 0, 0, 0, 0, 0, 4, 0, 0, 0, 0, 4, 4, 6, 0, 0, 0, 6, 4, 9, 0,\n",
       "       0, 8, 9, 0, 0, 4, 6, 4, 0, 0, 0, 9, 0, 0, 0, 9, 0, 0, 6, 0, 0, 8,\n",
       "       4, 0, 0, 6], dtype=uint8)"
      ]
     },
     "execution_count": 37,
     "metadata": {},
     "output_type": "execute_result"
    }
   ],
   "source": [
    "test_labels_arr_2[:70]"
   ]
  },
  {
   "cell_type": "code",
   "execution_count": 38,
   "metadata": {},
   "outputs": [],
   "source": [
    "# Check frequencies in changed ndarray\n",
    "(unique, counts) = np.unique(test_labels_arr_2, return_counts=True)\n",
    "frequencies = np.asarray((unique, counts)).T"
   ]
  },
  {
   "cell_type": "code",
   "execution_count": 39,
   "metadata": {},
   "outputs": [
    {
     "data": {
      "text/plain": [
       "array([[   0, 3962],\n",
       "       [   4,  982],\n",
       "       [   6,  958],\n",
       "       [   8,  974],\n",
       "       [   9, 1009]], dtype=int64)"
      ]
     },
     "execution_count": 39,
     "metadata": {},
     "output_type": "execute_result"
    }
   ],
   "source": [
    "frequencies"
   ]
  },
  {
   "cell_type": "code",
   "execution_count": 40,
   "metadata": {},
   "outputs": [],
   "source": [
    "# Recode labels from (4,6,8,9) to 1 (as composite numbers)\n",
    "test_labels_arr_2[ (test_labels_arr_2 == 4)|(test_labels_arr_2 == 6)|(test_labels_arr_2 == 8)|(test_labels_arr_2 == 9)] = 1"
   ]
  },
  {
   "cell_type": "code",
   "execution_count": 41,
   "metadata": {},
   "outputs": [],
   "source": [
    "# Check frequencies in changed ndarray\n",
    "(unique, counts) = np.unique(test_labels_arr_2, return_counts=True)\n",
    "frequencies = np.asarray((unique, counts)).T"
   ]
  },
  {
   "cell_type": "code",
   "execution_count": 42,
   "metadata": {},
   "outputs": [
    {
     "data": {
      "text/plain": [
       "array([[   0, 3962],\n",
       "       [   1, 3923]], dtype=int64)"
      ]
     },
     "execution_count": 42,
     "metadata": {},
     "output_type": "execute_result"
    }
   ],
   "source": [
    "frequencies"
   ]
  },
  {
   "cell_type": "code",
   "execution_count": null,
   "metadata": {},
   "outputs": [],
   "source": []
  },
  {
   "cell_type": "code",
   "execution_count": 58,
   "metadata": {
    "scrolled": true
   },
   "outputs": [
    {
     "data": {
      "text/plain": [
       "0.9921568627450981"
      ]
     },
     "execution_count": 58,
     "metadata": {},
     "output_type": "execute_result"
    }
   ],
   "source": [
    "max(train_images_arr_2[0][9])"
   ]
  },
  {
   "cell_type": "markdown",
   "metadata": {},
   "source": [
    "### Data normalization"
   ]
  },
  {
   "cell_type": "code",
   "execution_count": 55,
   "metadata": {},
   "outputs": [],
   "source": [
    "# Normalize dataset to <0,1> range\n",
    "train_images_arr_2, test_images_arr_2 = train_images_arr_2 / 255.0, test_images_arr_2 / 255.0"
   ]
  },
  {
   "cell_type": "code",
   "execution_count": 58,
   "metadata": {
    "scrolled": true
   },
   "outputs": [
    {
     "data": {
      "text/plain": [
       "0.9921568627450981"
      ]
     },
     "execution_count": 58,
     "metadata": {},
     "output_type": "execute_result"
    }
   ],
   "source": [
    "max(train_images_arr_2[0][9])"
   ]
  },
  {
   "cell_type": "markdown",
   "metadata": {},
   "source": [
    "### Datasets rename"
   ]
  },
  {
   "cell_type": "code",
   "execution_count": 60,
   "metadata": {},
   "outputs": [],
   "source": [
    "X_train, Y_train, X_test, Y_test = train_images_arr_2, train_labels_arr_2, test_images_arr_2, test_labels_arr_2"
   ]
  },
  {
   "cell_type": "markdown",
   "metadata": {},
   "source": [
    "## 3. Data modelling"
   ]
  },
  {
   "cell_type": "markdown",
   "metadata": {},
   "source": [
    "As far we deleted 0 and 1 from out datasets, both train and test. We also recoded all prime numbers to 0, and all composite numbers to 1. So our classifier will not differentiate between numbers among crtain groups. "
   ]
  },
  {
   "cell_type": "code",
   "execution_count": 62,
   "metadata": {},
   "outputs": [
    {
     "name": "stdout",
     "output_type": "stream",
     "text": [
      "2.0.0-alpha0\n"
     ]
    }
   ],
   "source": [
    "import tensorflow as tf\n",
    "print (tf.__version__) # 2.0.0-alpha0"
   ]
  },
  {
   "cell_type": "markdown",
   "metadata": {},
   "source": [
    "### Create baseline model"
   ]
  },
  {
   "cell_type": "code",
   "execution_count": 77,
   "metadata": {},
   "outputs": [],
   "source": [
    "# Create 2 layers neural network\n",
    "model = tf.keras.models.Sequential([\n",
    "        \n",
    "  # flatten input array to 1d vector\n",
    "  tf.keras.layers.Flatten(input_shape=(28, 28)), # output shape is 784\n",
    "  \n",
    "  # Add first layer consisted of 128 neurons, what is resulting \n",
    "  # in 100480 new parameters\n",
    "  tf.keras.layers.Dense(128, activation='relu'),\n",
    "  \n",
    "  # Random dropout of choosen percentage of parameters between layers\n",
    "  tf.keras.layers.Dropout(0.2),\n",
    "  \n",
    "  # add second layer consisted of 2 neurons\n",
    "  # output shape is 2 - one output value for each prime and composite number\n",
    "  tf.keras.layers.Dense(2, activation='softmax') \n",
    "])\n",
    "# 10 neurons as output in last layer \n",
    "\n",
    "# configure learning process\n",
    "model.compile(optimizer='adam',\n",
    "              loss='sparse_categorical_crossentropy',\n",
    "              metrics=['accuracy'])"
   ]
  },
  {
   "cell_type": "code",
   "execution_count": 78,
   "metadata": {},
   "outputs": [
    {
     "name": "stdout",
     "output_type": "stream",
     "text": [
      "Model: \"sequential_1\"\n",
      "_________________________________________________________________\n",
      "Layer (type)                 Output Shape              Param #   \n",
      "=================================================================\n",
      "flatten_1 (Flatten)          (None, 784)               0         \n",
      "_________________________________________________________________\n",
      "dense_2 (Dense)              (None, 128)               100480    \n",
      "_________________________________________________________________\n",
      "dropout_1 (Dropout)          (None, 128)               0         \n",
      "_________________________________________________________________\n",
      "dense_3 (Dense)              (None, 2)                 258       \n",
      "=================================================================\n",
      "Total params: 100,738\n",
      "Trainable params: 100,738\n",
      "Non-trainable params: 0\n",
      "_________________________________________________________________\n"
     ]
    }
   ],
   "source": [
    "# Show network structure\n",
    "model.summary()"
   ]
  },
  {
   "cell_type": "markdown",
   "metadata": {},
   "source": [
    "### Train the model"
   ]
  },
  {
   "cell_type": "code",
   "execution_count": 79,
   "metadata": {
    "scrolled": true
   },
   "outputs": [
    {
     "name": "stdout",
     "output_type": "stream",
     "text": [
      "Epoch 1/50\n",
      "47335/47335 [==============================] - 9s 197us/sample - loss: 0.1179 - accuracy: 0.9586\n",
      "Epoch 2/50\n",
      "47335/47335 [==============================] - 5s 107us/sample - loss: 0.0600 - accuracy: 0.9798\n",
      "Epoch 3/50\n",
      "47335/47335 [==============================] - 5s 107us/sample - loss: 0.0455 - accuracy: 0.9851\n",
      "Epoch 4/50\n",
      "47335/47335 [==============================] - 5s 107us/sample - loss: 0.0365 - accuracy: 0.9881\n",
      "Epoch 5/50\n",
      "47335/47335 [==============================] - 5s 107us/sample - loss: 0.0303 - accuracy: 0.9901\n",
      "Epoch 6/50\n",
      "47335/47335 [==============================] - 5s 108us/sample - loss: 0.0253 - accuracy: 0.9916\n",
      "Epoch 7/50\n",
      "47335/47335 [==============================] - 5s 107us/sample - loss: 0.0220 - accuracy: 0.9920\n",
      "Epoch 8/50\n",
      "47335/47335 [==============================] - 5s 106us/sample - loss: 0.0210 - accuracy: 0.9925\n",
      "Epoch 9/50\n",
      "47335/47335 [==============================] - 6s 123us/sample - loss: 0.0168 - accuracy: 0.9947\n",
      "Epoch 10/50\n",
      "47335/47335 [==============================] - 6s 117us/sample - loss: 0.0152 - accuracy: 0.9948\n",
      "Epoch 11/50\n",
      "47335/47335 [==============================] - 5s 114us/sample - loss: 0.0147 - accuracy: 0.9950\n",
      "Epoch 12/50\n",
      "47335/47335 [==============================] - 5s 109us/sample - loss: 0.0135 - accuracy: 0.9954\n",
      "Epoch 13/50\n",
      "47335/47335 [==============================] - 5s 109us/sample - loss: 0.0113 - accuracy: 0.9958\n",
      "Epoch 14/50\n",
      "47335/47335 [==============================] - 5s 114us/sample - loss: 0.0109 - accuracy: 0.9963\n",
      "Epoch 15/50\n",
      "47335/47335 [==============================] - 5s 109us/sample - loss: 0.0101 - accuracy: 0.9965\n",
      "Epoch 16/50\n",
      "47335/47335 [==============================] - 5s 110us/sample - loss: 0.0103 - accuracy: 0.9964\n",
      "Epoch 17/50\n",
      "47335/47335 [==============================] - 5s 109us/sample - loss: 0.0094 - accuracy: 0.9970\n",
      "Epoch 18/50\n",
      "47335/47335 [==============================] - 5s 109us/sample - loss: 0.0086 - accuracy: 0.9967\n",
      "Epoch 19/50\n",
      "47335/47335 [==============================] - 5s 109us/sample - loss: 0.0080 - accuracy: 0.9972\n",
      "Epoch 20/50\n",
      "47335/47335 [==============================] - 6s 117us/sample - loss: 0.0088 - accuracy: 0.9969\n",
      "Epoch 21/50\n",
      "47335/47335 [==============================] - 5s 110us/sample - loss: 0.0077 - accuracy: 0.9974\n",
      "Epoch 22/50\n",
      "47335/47335 [==============================] - 5s 108us/sample - loss: 0.0084 - accuracy: 0.9971\n",
      "Epoch 23/50\n",
      "47335/47335 [==============================] - 5s 114us/sample - loss: 0.0071 - accuracy: 0.9976\n",
      "Epoch 24/50\n",
      "47335/47335 [==============================] - 6s 119us/sample - loss: 0.0072 - accuracy: 0.9975\n",
      "Epoch 25/50\n",
      "47335/47335 [==============================] - 6s 123us/sample - loss: 0.0066 - accuracy: 0.9979\n",
      "Epoch 26/50\n",
      "47335/47335 [==============================] - 6s 124us/sample - loss: 0.0062 - accuracy: 0.9978\n",
      "Epoch 27/50\n",
      "47335/47335 [==============================] - 5s 113us/sample - loss: 0.0057 - accuracy: 0.9981\n",
      "Epoch 28/50\n",
      "47335/47335 [==============================] - 5s 112us/sample - loss: 0.0059 - accuracy: 0.9981\n",
      "Epoch 29/50\n",
      "47335/47335 [==============================] - 5s 108us/sample - loss: 0.0057 - accuracy: 0.9980\n",
      "Epoch 30/50\n",
      "47335/47335 [==============================] - 5s 106us/sample - loss: 0.0054 - accuracy: 0.9981\n",
      "Epoch 31/50\n",
      "47335/47335 [==============================] - 5s 106us/sample - loss: 0.0053 - accuracy: 0.9981\n",
      "Epoch 32/50\n",
      "47335/47335 [==============================] - 5s 108us/sample - loss: 0.0070 - accuracy: 0.9976\n",
      "Epoch 33/50\n",
      "47335/47335 [==============================] - 5s 112us/sample - loss: 0.0054 - accuracy: 0.9984\n",
      "Epoch 34/50\n",
      "47335/47335 [==============================] - 5s 107us/sample - loss: 0.0055 - accuracy: 0.9983\n",
      "Epoch 35/50\n",
      "47335/47335 [==============================] - 5s 106us/sample - loss: 0.0054 - accuracy: 0.9985\n",
      "Epoch 36/50\n",
      "47335/47335 [==============================] - 5s 107us/sample - loss: 0.0054 - accuracy: 0.9982\n",
      "Epoch 37/50\n",
      "47335/47335 [==============================] - 5s 113us/sample - loss: 0.0057 - accuracy: 0.9982\n",
      "Epoch 38/50\n",
      "47335/47335 [==============================] - 5s 108us/sample - loss: 0.0042 - accuracy: 0.9986\n",
      "Epoch 39/50\n",
      "47335/47335 [==============================] - 5s 106us/sample - loss: 0.0055 - accuracy: 0.9984\n",
      "Epoch 40/50\n",
      "47335/47335 [==============================] - 5s 108us/sample - loss: 0.0052 - accuracy: 0.9983\n",
      "Epoch 41/50\n",
      "47335/47335 [==============================] - 5s 108us/sample - loss: 0.0043 - accuracy: 0.9986\n",
      "Epoch 42/50\n",
      "47335/47335 [==============================] - 5s 106us/sample - loss: 0.0049 - accuracy: 0.9985\n",
      "Epoch 43/50\n",
      "47335/47335 [==============================] - 5s 106us/sample - loss: 0.0045 - accuracy: 0.9985\n",
      "Epoch 44/50\n",
      "47335/47335 [==============================] - 5s 110us/sample - loss: 0.0023 - accuracy: 0.9993\n",
      "Epoch 45/50\n",
      "47335/47335 [==============================] - 5s 109us/sample - loss: 0.0058 - accuracy: 0.9982\n",
      "Epoch 46/50\n",
      "47335/47335 [==============================] - 5s 111us/sample - loss: 0.0042 - accuracy: 0.9984\n",
      "Epoch 47/50\n",
      "47335/47335 [==============================] - 6s 119us/sample - loss: 0.0041 - accuracy: 0.9987\n",
      "Epoch 48/50\n",
      "47335/47335 [==============================] - 5s 112us/sample - loss: 0.0041 - accuracy: 0.9987\n",
      "Epoch 49/50\n",
      "47335/47335 [==============================] - 6s 121us/sample - loss: 0.0036 - accuracy: 0.9987\n",
      "Epoch 50/50\n",
      "47335/47335 [==============================] - 5s 114us/sample - loss: 0.0032 - accuracy: 0.9990\n"
     ]
    },
    {
     "data": {
      "text/plain": [
       "<tensorflow.python.keras.callbacks.History at 0x22d253632e8>"
      ]
     },
     "execution_count": 79,
     "metadata": {},
     "output_type": "execute_result"
    }
   ],
   "source": [
    "# Model training\n",
    "model.fit(X_train, Y_train, epochs=50)"
   ]
  },
  {
   "cell_type": "markdown",
   "metadata": {},
   "source": [
    "## 4. Model assessment"
   ]
  },
  {
   "cell_type": "code",
   "execution_count": 103,
   "metadata": {},
   "outputs": [
    {
     "name": "stdout",
     "output_type": "stream",
     "text": [
      "7885/7885 [==============================] - 0s 61us/sample - loss: 0.0610 - accuracy: 0.9906\n"
     ]
    },
    {
     "data": {
      "text/plain": [
       "[0.06096666169312664, 0.99061507]"
      ]
     },
     "execution_count": 103,
     "metadata": {},
     "output_type": "execute_result"
    }
   ],
   "source": [
    "# Model evaluation\n",
    "model.evaluate(X_test, Y_test)"
   ]
  },
  {
   "cell_type": "markdown",
   "metadata": {},
   "source": [
    "Model has pretty high 0.9906 accuracy on test set."
   ]
  },
  {
   "cell_type": "markdown",
   "metadata": {},
   "source": [
    "## Test network on particular examples"
   ]
  },
  {
   "cell_type": "markdown",
   "metadata": {},
   "source": [
    "#### Get image from test set and predict"
   ]
  },
  {
   "cell_type": "code",
   "execution_count": 89,
   "metadata": {},
   "outputs": [],
   "source": [
    "# Cut observation\n",
    "X_obs_02 = np.expand_dims(X_test[0], axis = 0)"
   ]
  },
  {
   "cell_type": "code",
   "execution_count": 98,
   "metadata": {},
   "outputs": [
    {
     "data": {
      "image/png": "[encoded data removed]",
      "text/plain": [
       "<Figure size 432x288 with 1 Axes>"
      ]
     },
     "metadata": {
      "needs_background": "light"
     },
     "output_type": "display_data"
    }
   ],
   "source": [
    "# Show image\n",
    "import matplotlib.pyplot as plt\n",
    "plt.imshow(X_test[0])\n",
    "plt.show()"
   ]
  },
  {
   "cell_type": "code",
   "execution_count": 90,
   "metadata": {},
   "outputs": [
    {
     "name": "stdout",
     "output_type": "stream",
     "text": [
      "[[1.000000e+00 5.532408e-18]]\n"
     ]
    }
   ],
   "source": [
    "# Predict image class\n",
    "prediction = model.predict(X_obs_02)\n",
    "print(prediction)"
   ]
  },
  {
   "cell_type": "markdown",
   "metadata": {},
   "source": [
    "Probablility that number is prime: 1.0000000e+00\n",
    "\n",
    "Probablility that number is composite: 5.532408e-18"
   ]
  },
  {
   "cell_type": "markdown",
   "metadata": {},
   "source": [
    "#### Create random image and test model"
   ]
  },
  {
   "cell_type": "code",
   "execution_count": 99,
   "metadata": {},
   "outputs": [],
   "source": [
    "# Genereate observation - create an array\n",
    "X_obs_01_2d = np.array([np.round(np.random.uniform(size = None),4) for i in range(784)]).reshape(28,28)\n",
    "# add dim on axis = 0\n",
    "X_obs_01 = np.expand_dims(X_obs_01_2d, axis=0)"
   ]
  },
  {
   "cell_type": "code",
   "execution_count": 100,
   "metadata": {},
   "outputs": [
    {
     "data": {
      "image/png": "[encoded data removed]",
      "text/plain": [
       "<Figure size 432x288 with 1 Axes>"
      ]
     },
     "metadata": {
      "needs_background": "light"
     },
     "output_type": "display_data"
    }
   ],
   "source": [
    "# Show image\n",
    "import matplotlib.pyplot as plt\n",
    "plt.imshow(X_obs_01_2d)\n",
    "plt.show()"
   ]
  },
  {
   "cell_type": "code",
   "execution_count": 101,
   "metadata": {},
   "outputs": [
    {
     "name": "stdout",
     "output_type": "stream",
     "text": [
      "[[4.2904677e-12 1.0000000e+00]]\n"
     ]
    }
   ],
   "source": [
    "# Predict image class\n",
    "prediction = model.predict(X_obs_01)\n",
    "print(prediction)"
   ]
  },
  {
   "cell_type": "markdown",
   "metadata": {},
   "source": [
    "Probablility that number is prime: 1.9249865e-22 \n",
    "\n",
    "Probablility that number is composite: 1.0000000e+00"
   ]
  },
  {
   "cell_type": "markdown",
   "metadata": {},
   "source": [
    "## 5. Hyperparameters tuning"
   ]
  },
  {
   "cell_type": "code",
   "execution_count": null,
   "metadata": {},
   "outputs": [],
   "source": []
  },
  {
   "cell_type": "code",
   "execution_count": null,
   "metadata": {},
   "outputs": [],
   "source": []
  },
  {
   "cell_type": "markdown",
   "metadata": {},
   "source": [
    "## 6. Model assessment"
   ]
  }
 ],
 "metadata": {
  "kernelspec": {
   "display_name": "Python 3",
   "language": "python",
   "name": "python3"
  },
  "language_info": {
   "codemirror_mode": {
    "name": "ipython",
    "version": 3
   },
   "file_extension": ".py",
   "mimetype": "text/x-python",
   "name": "python",
   "nbconvert_exporter": "python",
   "pygments_lexer": "ipython3",
   "version": "3.7.3"
  }
 },
 "nbformat": 4,
 "nbformat_minor": 4
}
